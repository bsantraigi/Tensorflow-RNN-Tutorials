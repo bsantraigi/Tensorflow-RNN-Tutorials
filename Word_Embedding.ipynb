{
 "cells": [
  {
   "cell_type": "markdown",
   "metadata": {
    "colab_type": "text",
    "id": "V2Q3X3lS9SQr"
   },
   "source": [
    "## Tutorial on Word Embeddings\n",
    "- We will be using a package called `pymagnitude` for accessing different word vectors\n",
    "- Pymagnitude provides a fast and easy access to many different word vector models (e.g. word2vec, Glove, fastText, ELMo etc.) through a single API. "
   ]
  },
  {
   "cell_type": "markdown",
   "metadata": {
    "colab_type": "text",
    "id": "mL9F0lTn9SQu"
   },
   "source": [
    "## Steps\n",
    "- First install `pymagnitude` through `pip`\n",
    "- Then download your desired word vector model files from pymagnitude's site. **[Github/PlasticityAI/Magnitude](https://github.com/plasticityai/magnitude)**\n",
    "- `pymagnitude` is a python only package. So if you want to use these word vectors in some other language, you would need to read them through raw txt files. (available through model's official sites)"
   ]
  },
  {
   "cell_type": "markdown",
   "metadata": {
    "colab_type": "text",
    "id": "NC9qqvWoJYZT"
   },
   "source": [
    "### Setup Environment"
   ]
  },
  {
   "cell_type": "markdown",
   "metadata": {
    "colab_type": "text",
    "id": "bnCJOwMIJhoE"
   },
   "source": [
    "#### Choose Python 3 + GPU/CPU\n",
    "\n",
    "<img src=\"https://i.stack.imgur.com/khwGc.png\" width=\"400\"></img>\n",
    "<img src=\"https://i.stack.imgur.com/5iL6w.png\" width=\"400\"></img>"
   ]
  },
  {
   "cell_type": "markdown",
   "metadata": {
    "colab_type": "text",
    "id": "KlDTbd45J8p9"
   },
   "source": [
    "#### Install and Import `pymagnitude`"
   ]
  },
  {
   "cell_type": "code",
   "execution_count": 1,
   "metadata": {
    "colab": {
     "base_uri": "https://localhost:8080/",
     "height": 205
    },
    "colab_type": "code",
    "id": "yGRKkot09SQv",
    "outputId": "d9ce6bbb-af29-4e23-861c-122a5b1fe400"
   },
   "outputs": [
    {
     "name": "stdout",
     "output_type": "stream",
     "text": [
      "Collecting pymagnitude\n",
      "\u001b[?25l  Downloading https://files.pythonhosted.org/packages/0a/a3/b9a34d22ed8c0ed59b00ff55092129641cdfa09d82f9abdc5088051a5b0c/pymagnitude-0.1.120.tar.gz (5.4MB)\n",
      "\u001b[K     |████████████████████████████████| 5.4MB 1.4MB/s \n",
      "\u001b[?25hBuilding wheels for collected packages: pymagnitude\n",
      "  Building wheel for pymagnitude (setup.py) ... \u001b[?25l\u001b[?25hdone\n",
      "  Created wheel for pymagnitude: filename=pymagnitude-0.1.120-cp36-cp36m-linux_x86_64.whl size=135918206 sha256=96f1e50c35928e926fee3f55a7ccec3e9f90c9973fbf6fdc07c0d92699bda287\n",
      "  Stored in directory: /root/.cache/pip/wheels/a2/c7/98/cb48b9db35f8d1a7827b764dc36c5515179dc116448a47c8a1\n",
      "Successfully built pymagnitude\n",
      "Installing collected packages: pymagnitude\n",
      "Successfully installed pymagnitude-0.1.120\n"
     ]
    }
   ],
   "source": [
    "!pip install pymagnitude"
   ]
  },
  {
   "cell_type": "code",
   "execution_count": 0,
   "metadata": {
    "colab": {},
    "colab_type": "code",
    "id": "yJjk_ZYW9SQ0"
   },
   "outputs": [],
   "source": [
    "from pymagnitude import *"
   ]
  },
  {
   "cell_type": "markdown",
   "metadata": {
    "colab_type": "text",
    "id": "MsgpZmywHQJ0"
   },
   "source": [
    "## Glove"
   ]
  },
  {
   "cell_type": "markdown",
   "metadata": {
    "colab_type": "text",
    "id": "XSGWkaK1D6c1"
   },
   "source": [
    "### Download magnitude file"
   ]
  },
  {
   "cell_type": "code",
   "execution_count": 3,
   "metadata": {
    "colab": {
     "base_uri": "https://localhost:8080/",
     "height": 202
    },
    "colab_type": "code",
    "id": "DpzgH5PV9SQ3",
    "outputId": "6191d58b-8e71-4628-e230-1a07df37f7aa"
   },
   "outputs": [
    {
     "name": "stdout",
     "output_type": "stream",
     "text": [
      "--2019-08-11 04:45:27--  http://magnitude.plasticity.ai/glove/light/glove.6B.100d.magnitude\n",
      "Resolving magnitude.plasticity.ai (magnitude.plasticity.ai)... 52.216.169.234\n",
      "Connecting to magnitude.plasticity.ai (magnitude.plasticity.ai)|52.216.169.234|:80... connected.\n",
      "HTTP request sent, awaiting response... 200 OK\n",
      "Length: 193871872 (185M) [binary/octet-stream]\n",
      "Saving to: ‘glove.6B.100d.magnitude’\n",
      "\n",
      "glove.6B.100d.magni 100%[===================>] 184.89M  55.4MB/s    in 3.3s    \n",
      "\n",
      "2019-08-11 04:45:30 (55.4 MB/s) - ‘glove.6B.100d.magnitude’ saved [193871872/193871872]\n",
      "\n"
     ]
    }
   ],
   "source": [
    "# Downloading glove\n",
    "!wget http://magnitude.plasticity.ai/glove/light/glove.6B.100d.magnitude"
   ]
  },
  {
   "cell_type": "markdown",
   "metadata": {
    "colab_type": "text",
    "id": "Q16MFD8IAZ86"
   },
   "source": [
    "### Loading a downloaded .magnitude file"
   ]
  },
  {
   "cell_type": "code",
   "execution_count": 0,
   "metadata": {
    "colab": {},
    "colab_type": "code",
    "id": "h3el6TXq-yGG"
   },
   "outputs": [],
   "source": [
    "glove_vectors = Magnitude(\"glove.6B.100d.magnitude\")"
   ]
  },
  {
   "cell_type": "code",
   "execution_count": 5,
   "metadata": {
    "colab": {
     "base_uri": "https://localhost:8080/",
     "height": 34
    },
    "colab_type": "code",
    "id": "r6qKmzou-46M",
    "outputId": "f170fa4f-a5c1-4e23-8ceb-8b220e0a21c3"
   },
   "outputs": [
    {
     "name": "stdout",
     "output_type": "stream",
     "text": [
      "Number of words in glove's vocab: 400000\n"
     ]
    }
   ],
   "source": [
    "print(\"Number of words in glove's vocab:\", len(glove_vectors))"
   ]
  },
  {
   "cell_type": "code",
   "execution_count": 6,
   "metadata": {
    "colab": {
     "base_uri": "https://localhost:8080/",
     "height": 34
    },
    "colab_type": "code",
    "id": "FwsHykC4__XM",
    "outputId": "4352c777-9476-4fee-fe1e-eef3187ef78f"
   },
   "outputs": [
    {
     "name": "stdout",
     "output_type": "stream",
     "text": [
      "True\n"
     ]
    }
   ],
   "source": [
    "print('cat' in glove_vectors)"
   ]
  },
  {
   "cell_type": "code",
   "execution_count": 12,
   "metadata": {
    "colab": {
     "base_uri": "https://localhost:8080/",
     "height": 34
    },
    "colab_type": "code",
    "id": "kaGry48F__An",
    "outputId": "1c29f6b6-d557-4fbb-b702-271665739ded"
   },
   "outputs": [
    {
     "name": "stdout",
     "output_type": "stream",
     "text": [
      "False\n"
     ]
    }
   ],
   "source": [
    "print('peoplekind' in glove_vectors)"
   ]
  },
  {
   "cell_type": "markdown",
   "metadata": {
    "colab_type": "text",
    "id": "3DeqB6cdAP0u"
   },
   "source": [
    "### Querying word vectors"
   ]
  },
  {
   "cell_type": "code",
   "execution_count": 9,
   "metadata": {
    "colab": {
     "base_uri": "https://localhost:8080/",
     "height": 370
    },
    "colab_type": "code",
    "id": "BBVIrPGvAIp3",
    "outputId": "f8013543-2dcc-4698-ed23-56414fa8620b"
   },
   "outputs": [
    {
     "data": {
      "text/plain": [
       "array([ 0.0458157,  0.0561247,  0.1253741, -0.1178949, -0.1162836,\n",
       "        0.1255229,  0.0484232, -0.0279959,  0.0120681, -0.1567276,\n",
       "       -0.0577499,  0.0283511,  0.1434202,  0.0405372,  0.0279204,\n",
       "        0.195973 ,  0.1042463,  0.0193391,  0.1750634,  0.1016427,\n",
       "        0.0797806,  0.0420077, -0.0026013, -0.1421145,  0.1099097,\n",
       "        0.227253 , -0.1747141, -0.0996484, -0.045272 ,  0.0047397,\n",
       "        0.0212727,  0.0166171,  0.1091715,  0.1160455,  0.1504489,\n",
       "        0.0906988, -0.0555651,  0.0500564,  0.1368538, -0.1209926,\n",
       "        0.0388505,  0.0087728, -0.0617861, -0.136578 , -0.0450875,\n",
       "        0.0916493, -0.1531199,  0.0202567,  0.1104038,  0.0133782,\n",
       "       -0.1135213,  0.0470996,  0.0936039,  0.1642385, -0.0580694,\n",
       "       -0.2663456, -0.0197005,  0.0558389,  0.0825588,  0.0210009,\n",
       "        0.1234354,  0.1775955, -0.0465261,  0.1018967,  0.1972073,\n",
       "        0.2350715, -0.0324727,  0.0409837,  0.1465556,  0.0477426,\n",
       "       -0.1914406,  0.0267516, -0.0014384,  0.0655168, -0.0245371,\n",
       "        0.0539577, -0.081263 ,  0.0043476, -0.120433 ,  0.080874 ,\n",
       "        0.0388267, -0.0829517,  0.0369812, -0.0064794, -0.155916 ,\n",
       "       -0.0274779,  0.0087327, -0.0167529,  0.0097454,  0.0478319,\n",
       "        0.0898395, -0.0370725,  0.0916434,  0.0176746, -0.0360862,\n",
       "       -0.0030222, -0.1462103, -0.0288372,  0.0299723, -0.1418704],\n",
       "      dtype=float32)"
      ]
     },
     "execution_count": 9,
     "metadata": {
      "tags": []
     },
     "output_type": "execute_result"
    }
   ],
   "source": [
    "glove_vectors.query('cat')"
   ]
  },
  {
   "cell_type": "markdown",
   "metadata": {
    "colab_type": "text",
    "id": "xRSNSgzEBSBk"
   },
   "source": [
    "### Obtain vectors for sentence words\n",
    "- In a single API call obtain word vectors for every single word"
   ]
  },
  {
   "cell_type": "code",
   "execution_count": 0,
   "metadata": {
    "colab": {},
    "colab_type": "code",
    "id": "dKirSioPAeOs"
   },
   "outputs": [],
   "source": [
    "s_vec = glove_vectors.query([\"cats\", \"are\", \"very\", \"smart\"])"
   ]
  },
  {
   "cell_type": "code",
   "execution_count": 28,
   "metadata": {
    "colab": {
     "base_uri": "https://localhost:8080/",
     "height": 34
    },
    "colab_type": "code",
    "id": "ToCB0y5HEia_",
    "outputId": "00a0e3fd-dcce-412b-e120-e3a3f1359de6"
   },
   "outputs": [
    {
     "data": {
      "text/plain": [
       "(4, 100)"
      ]
     },
     "execution_count": 28,
     "metadata": {
      "tags": []
     },
     "output_type": "execute_result"
    }
   ],
   "source": [
    "s_vec.shape"
   ]
  },
  {
   "cell_type": "code",
   "execution_count": 29,
   "metadata": {
    "colab": {
     "base_uri": "https://localhost:8080/",
     "height": 370
    },
    "colab_type": "code",
    "id": "3h0wW2mNEkrD",
    "outputId": "30d1a700-fb7b-445a-d17b-477a080a7e10"
   },
   "outputs": [
    {
     "data": {
      "text/plain": [
       "array([ 0.0534746,  0.0658763,  0.1870054, -0.1878241, -0.1361039,\n",
       "        0.1787706,  0.0368147,  0.0105236, -0.0734371, -0.1664719,\n",
       "       -0.0395147, -0.0076599,  0.087623 ,  0.05196  , -0.0100253,\n",
       "        0.1080831, -0.0112173,  0.106295 ,  0.0333455,  0.0879857,\n",
       "        0.1233711,  0.0152736, -0.0354984, -0.1272288,  0.0567415,\n",
       "        0.1129181, -0.1014143, -0.1334674, -0.1390061,  0.0345092,\n",
       "       -0.0179415,  0.0141827,  0.0668635,  0.0697162,  0.111911 ,\n",
       "       -0.0337717,  0.0091931,  0.0793069, -0.0256063, -0.0376869,\n",
       "        0.0379446,  0.0084574, -0.1493006, -0.1214661,  0.0539345,\n",
       "        0.079186 , -0.1207227,  0.0129748,  0.0047   , -0.0642646,\n",
       "       -0.0621019,  0.017952 , -0.0511136,  0.1135683, -0.0300667,\n",
       "       -0.1121112, -0.0498845, -0.0999791, -0.1068441, -0.0355618,\n",
       "       -0.0082395,  0.1947247, -0.0898908,  0.0357125,  0.1992089,\n",
       "        0.2702968, -0.0970293, -0.0141555,  0.1273795, -0.0308398,\n",
       "       -0.1807668, -0.0352942,  0.0518114,  0.0710662, -0.1095778,\n",
       "       -0.0602801, -0.0297475,  0.0599391, -0.1048795,  0.0431048,\n",
       "        0.0657038, -0.0166248, -0.0036817,  0.0674146, -0.2205591,\n",
       "       -0.0058575,  0.06839  ,  0.0138007, -0.0985042,  0.1595495,\n",
       "       -0.0300984, -0.1025384,  0.1583799, -0.0407675, -0.2389357,\n",
       "       -0.0220083, -0.2495612,  0.0457056,  0.1005917, -0.0971126],\n",
       "      dtype=float32)"
      ]
     },
     "execution_count": 29,
     "metadata": {
      "tags": []
     },
     "output_type": "execute_result"
    }
   ],
   "source": [
    "s_vec[0] # vector for first word \"cat\""
   ]
  },
  {
   "cell_type": "markdown",
   "metadata": {
    "colab_type": "text",
    "id": "gE5Q7272Bdcy"
   },
   "source": [
    "### Word Similarity"
   ]
  },
  {
   "cell_type": "code",
   "execution_count": 20,
   "metadata": {
    "colab": {
     "base_uri": "https://localhost:8080/",
     "height": 34
    },
    "colab_type": "code",
    "id": "i0IKIXmYBM1S",
    "outputId": "65a306d8-efcc-4cdd-ed2c-8e9ff1cfbf0a"
   },
   "outputs": [
    {
     "data": {
      "text/plain": [
       "[0.31261414, 0.7601956]"
      ]
     },
     "execution_count": 20,
     "metadata": {
      "tags": []
     },
     "output_type": "execute_result"
    }
   ],
   "source": [
    "glove_vectors.similarity(\"storm\", [\"cat\", \"typhoon\"])"
   ]
  },
  {
   "cell_type": "markdown",
   "metadata": {
    "colab_type": "text",
    "id": "ScbVTP-NB-bo"
   },
   "source": [
    "### Find out most similar word"
   ]
  },
  {
   "cell_type": "code",
   "execution_count": 23,
   "metadata": {
    "colab": {
     "base_uri": "https://localhost:8080/",
     "height": 34
    },
    "colab_type": "code",
    "id": "nPSI2fhxB3EV",
    "outputId": "46624502-3232-4721-b2aa-3f9d8b16cab7"
   },
   "outputs": [
    {
     "data": {
      "text/plain": [
       "'dog'"
      ]
     },
     "execution_count": 23,
     "metadata": {
      "tags": []
     },
     "output_type": "execute_result"
    }
   ],
   "source": [
    "glove_vectors.most_similar_to_given(\"cat\", [\"dog\", \"pig\", \"laptop\", \"universe\"])"
   ]
  },
  {
   "cell_type": "markdown",
   "metadata": {
    "colab_type": "text",
    "id": "VLHo5Q5gCTQF"
   },
   "source": [
    "### Important Note on OOV words\n",
    "- OOV - Out of Vocabulary\n",
    "- Word vector models are always trained on a finite text corpus. Hence the vocab will also be finite in size.\n",
    "- `pymagnitude` models handles OOV keys by assigning random (rather `deterministic random`) vectors to such words.\n",
    "- `Medium` and `Large` magnitude models have advanced OOV handling such that similar keys in terms of spelling are placed closer in vector space. \n",
    "- Example follows"
   ]
  },
  {
   "cell_type": "markdown",
   "metadata": {
    "colab_type": "text",
    "id": "A2x0bGrdDU95"
   },
   "source": [
    "#### Light Version with no special OOV treatment"
   ]
  },
  {
   "cell_type": "code",
   "execution_count": 36,
   "metadata": {
    "colab": {
     "base_uri": "https://localhost:8080/",
     "height": 34
    },
    "colab_type": "code",
    "id": "EENXE-NlCPSB",
    "outputId": "22944e35-ba6d-4d4f-b416-0be331384098"
   },
   "outputs": [
    {
     "data": {
      "text/plain": [
       "(True, True)"
      ]
     },
     "execution_count": 36,
     "metadata": {
      "tags": []
     },
     "output_type": "execute_result"
    }
   ],
   "source": [
    "\"uber\" in glove_vectors"
   ]
  },
  {
   "cell_type": "code",
   "execution_count": 25,
   "metadata": {
    "colab": {
     "base_uri": "https://localhost:8080/",
     "height": 34
    },
    "colab_type": "code",
    "id": "sp6Fd-BBDjII",
    "outputId": "0befa68e-c4c3-409b-fa8e-79a3f38e3632"
   },
   "outputs": [
    {
     "data": {
      "text/plain": [
       "False"
      ]
     },
     "execution_count": 25,
     "metadata": {
      "tags": []
     },
     "output_type": "execute_result"
    }
   ],
   "source": [
    "\"uberification\" in glove_vectors"
   ]
  },
  {
   "cell_type": "code",
   "execution_count": 39,
   "metadata": {
    "colab": {
     "base_uri": "https://localhost:8080/",
     "height": 34
    },
    "colab_type": "code",
    "id": "oBYQPXt4Djil",
    "outputId": "8da246e3-e935-4f9b-a220-3546a856d64a"
   },
   "outputs": [
    {
     "data": {
      "text/plain": [
       "[-0.012241118, -0.08139361]"
      ]
     },
     "execution_count": 39,
     "metadata": {
      "tags": []
     },
     "output_type": "execute_result"
    }
   ],
   "source": [
    "glove_vectors.similarity(\"uber\", \"uberification\")"
   ]
  },
  {
   "cell_type": "markdown",
   "metadata": {
    "colab_type": "text",
    "id": "QC2XalB_Dh_7"
   },
   "source": [
    "#### Medium Version with advanced OOV treatment"
   ]
  },
  {
   "cell_type": "code",
   "execution_count": 27,
   "metadata": {
    "colab": {
     "base_uri": "https://localhost:8080/",
     "height": 202
    },
    "colab_type": "code",
    "id": "qN67ihX4DyTt",
    "outputId": "bb60f174-8112-4209-c81a-e85e7fabe3e2"
   },
   "outputs": [
    {
     "name": "stdout",
     "output_type": "stream",
     "text": [
      "--2019-08-11 05:05:07--  http://magnitude.plasticity.ai/glove/medium/glove.6B.100d.magnitude\n",
      "Resolving magnitude.plasticity.ai (magnitude.plasticity.ai)... 52.216.200.82\n",
      "Connecting to magnitude.plasticity.ai (magnitude.plasticity.ai)|52.216.200.82|:80... connected.\n",
      "HTTP request sent, awaiting response... 200 OK\n",
      "Length: 301989888 (288M) [binary/octet-stream]\n",
      "Saving to: ‘glove.6B.100d.magnitude.medium’\n",
      "\n",
      "glove.6B.100d.magni 100%[===================>] 288.00M  50.5MB/s    in 7.0s    \n",
      "\n",
      "2019-08-11 05:05:15 (41.0 MB/s) - ‘glove.6B.100d.magnitude.medium’ saved [301989888/301989888]\n",
      "\n"
     ]
    }
   ],
   "source": [
    "# Downloading glove\n",
    "!wget http://magnitude.plasticity.ai/glove/medium/glove.6B.100d.magnitude -O glove.6B.100d.magnitude.medium"
   ]
  },
  {
   "cell_type": "code",
   "execution_count": 0,
   "metadata": {
    "colab": {},
    "colab_type": "code",
    "id": "PYcaeVvwDygJ"
   },
   "outputs": [],
   "source": [
    "glove_medium = Magnitude(\"glove.6B.100d.magnitude.medium\")"
   ]
  },
  {
   "cell_type": "code",
   "execution_count": 32,
   "metadata": {
    "colab": {
     "base_uri": "https://localhost:8080/",
     "height": 34
    },
    "colab_type": "code",
    "id": "U3j-nRmoDy23",
    "outputId": "b1dd4101-bb31-4e1b-df61-10013d268e34"
   },
   "outputs": [
    {
     "data": {
      "text/plain": [
       "False"
      ]
     },
     "execution_count": 32,
     "metadata": {
      "tags": []
     },
     "output_type": "execute_result"
    }
   ],
   "source": [
    "\"uberification\" in glove_medium"
   ]
  },
  {
   "cell_type": "code",
   "execution_count": 33,
   "metadata": {
    "colab": {
     "base_uri": "https://localhost:8080/",
     "height": 34
    },
    "colab_type": "code",
    "id": "Ick8LJisE0dZ",
    "outputId": "4c0fdf7b-2fa3-4edb-f9ba-676bbb2f2326"
   },
   "outputs": [
    {
     "data": {
      "text/plain": [
       "0.9184026091035166"
      ]
     },
     "execution_count": 33,
     "metadata": {
      "tags": []
     },
     "output_type": "execute_result"
    }
   ],
   "source": [
    "glove_medium.similarity(\"uber\", \"uberification\")"
   ]
  },
  {
   "cell_type": "code",
   "execution_count": 47,
   "metadata": {
    "colab": {
     "base_uri": "https://localhost:8080/",
     "height": 34
    },
    "colab_type": "code",
    "id": "cfPft-5YFQUq",
    "outputId": "3cdce37b-a382-40dc-ee2b-c1b728cdc4e3"
   },
   "outputs": [
    {
     "data": {
      "text/plain": [
       "0.04616803565754191"
      ]
     },
     "execution_count": 47,
     "metadata": {
      "tags": []
     },
     "output_type": "execute_result"
    }
   ],
   "source": [
    "# But use this with caution! Doesn't always work.\n",
    "glove_medium.similarity(\"ultimate\", \"ultimete\")"
   ]
  },
  {
   "cell_type": "markdown",
   "metadata": {
    "colab_type": "text",
    "id": "NkANxzG9HKVn"
   },
   "source": [
    "### FastText\n",
    "- Uses subword units\n",
    "- Can often obtain good representation for rare words also"
   ]
  },
  {
   "cell_type": "code",
   "execution_count": 53,
   "metadata": {
    "colab": {
     "base_uri": "https://localhost:8080/",
     "height": 202
    },
    "colab_type": "code",
    "id": "6bqdM1uz9SQ6",
    "outputId": "66e69321-9f35-4943-e0f3-7fc3ce4db2dd"
   },
   "outputs": [
    {
     "name": "stdout",
     "output_type": "stream",
     "text": [
      "--2019-08-11 05:19:56--  http://magnitude.plasticity.ai/fasttext/light/wiki-news-300d-1M-subword.magnitude\n",
      "Resolving magnitude.plasticity.ai (magnitude.plasticity.ai)... 52.216.226.98\n",
      "Connecting to magnitude.plasticity.ai (magnitude.plasticity.ai)|52.216.226.98|:80... connected.\n",
      "HTTP request sent, awaiting response... 200 OK\n",
      "Length: 1397719040 (1.3G) [binary/octet-stream]\n",
      "Saving to: ‘wiki-news-300d-1M-subword.magnitude’\n",
      "\n",
      "wiki-news-300d-1M-s 100%[===================>]   1.30G  55.2MB/s    in 26s     \n",
      "\n",
      "2019-08-11 05:20:23 (50.9 MB/s) - ‘wiki-news-300d-1M-subword.magnitude’ saved [1397719040/1397719040]\n",
      "\n"
     ]
    }
   ],
   "source": [
    "# Downloading fastText\n",
    "!wget http://magnitude.plasticity.ai/fasttext/light/wiki-news-300d-1M-subword.magnitude"
   ]
  },
  {
   "cell_type": "code",
   "execution_count": 0,
   "metadata": {
    "colab": {},
    "colab_type": "code",
    "id": "17yWR_BiHVWz"
   },
   "outputs": [],
   "source": [
    "ft_vectors = Magnitude(\"wiki-news-300d-1M-subword.magnitude\")"
   ]
  },
  {
   "cell_type": "code",
   "execution_count": 58,
   "metadata": {
    "colab": {
     "base_uri": "https://localhost:8080/",
     "height": 34
    },
    "colab_type": "code",
    "id": "HFnjtVJJHdHU",
    "outputId": "84867ac2-ea0a-457b-b38f-d5c82f5bf668"
   },
   "outputs": [
    {
     "data": {
      "text/plain": [
       "0.5256843"
      ]
     },
     "execution_count": 58,
     "metadata": {
      "tags": []
     },
     "output_type": "execute_result"
    }
   ],
   "source": [
    "ft_vectors.similarity(\"bat\", \"batgirl\")"
   ]
  },
  {
   "cell_type": "code",
   "execution_count": 60,
   "metadata": {
    "colab": {
     "base_uri": "https://localhost:8080/",
     "height": 34
    },
    "colab_type": "code",
    "id": "Z_spQGrEHdwa",
    "outputId": "3c1621a9-6267-466c-ead0-616075617bdb"
   },
   "outputs": [
    {
     "data": {
      "text/plain": [
       "-0.029738491"
      ]
     },
     "execution_count": 60,
     "metadata": {
      "tags": []
     },
     "output_type": "execute_result"
    }
   ],
   "source": [
    "# Whereas glove fails to capture this similarity\n",
    "glove_vectors.similarity(\"bat\", \"batgirl\")"
   ]
  },
  {
   "cell_type": "markdown",
   "metadata": {
    "colab_type": "text",
    "id": "bRbqRcGJErIr"
   },
   "source": [
    "### Other word vector models"
   ]
  },
  {
   "cell_type": "markdown",
   "metadata": {
    "colab_type": "text",
    "id": "NWaR858mF9Ui"
   },
   "source": [
    "<img width=\"600\" align=\"middle\" src=\"https://i.stack.imgur.com/OUbwp.png\"></img>"
   ]
  },
  {
   "cell_type": "code",
   "execution_count": 0,
   "metadata": {
    "colab": {},
    "colab_type": "code",
    "id": "6bIOybjJ9SQ-"
   },
   "outputs": [],
   "source": [
    "# Downloading word2vec\n",
    "!wget http://magnitude.plasticity.ai/word2vec/light/GoogleNews-vectors-negative300.magnitude"
   ]
  }
 ],
 "metadata": {
  "accelerator": "GPU",
  "colab": {
   "name": "Word Embedding.ipynb",
   "provenance": [],
   "toc_visible": true,
   "version": "0.3.2"
  },
  "kernelspec": {
   "display_name": "Python 3",
   "language": "python",
   "name": "python3"
  },
  "language_info": {
   "codemirror_mode": {
    "name": "ipython",
    "version": 3
   },
   "file_extension": ".py",
   "mimetype": "text/x-python",
   "name": "python",
   "nbconvert_exporter": "python",
   "pygments_lexer": "ipython3",
   "version": "3.6.7"
  },
  "toc": {
   "base_numbering": 1,
   "nav_menu": {},
   "number_sections": true,
   "sideBar": true,
   "skip_h1_title": false,
   "title_cell": "Table of Contents",
   "title_sidebar": "Contents",
   "toc_cell": false,
   "toc_position": {},
   "toc_section_display": true,
   "toc_window_display": true
  }
 },
 "nbformat": 4,
 "nbformat_minor": 1
}
