{
 "cells": [
  {
   "cell_type": "markdown",
   "metadata": {},
   "source": [
    "### Deep Sentiment Analysis Tutorial"
   ]
  },
  {
   "cell_type": "markdown",
   "metadata": {},
   "source": [
    "### Setup GPU\n",
    "- On Google Colab make sure you select Python 3/GPU runtime before running the code"
   ]
  },
  {
   "cell_type": "code",
   "execution_count": 1,
   "metadata": {
    "scrolled": true
   },
   "outputs": [
    {
     "name": "stdout",
     "output_type": "stream",
     "text": [
      "env: CUDA_VISIBLE_DEVICES=0\n"
     ]
    }
   ],
   "source": [
    "%env CUDA_VISIBLE_DEVICES=0"
   ]
  },
  {
   "cell_type": "markdown",
   "metadata": {},
   "source": [
    "### Download Data"
   ]
  },
  {
   "cell_type": "code",
   "execution_count": 2,
   "metadata": {},
   "outputs": [
    {
     "name": "stdout",
     "output_type": "stream",
     "text": [
      "Skip Download\r\n"
     ]
    }
   ],
   "source": [
    "![ ! -d data ] && mkdir data/\n",
    "![ -f data/aclImdb_v1.tar.gz ] && echo \"Skip Download\"\n",
    "![ ! -f data/aclImdb_v1.tar.gz ] && wget -N https://ai.stanford.edu/~amaas/data/sentiment/aclImdb_v1.tar.gz -P data/"
   ]
  },
  {
   "cell_type": "code",
   "execution_count": 3,
   "metadata": {},
   "outputs": [
    {
     "name": "stdout",
     "output_type": "stream",
     "text": [
      "Data already extracted\n",
      "CPU times: user 6.83 ms, sys: 6.68 ms, total: 13.5 ms\n",
      "Wall time: 224 ms\n"
     ]
    }
   ],
   "source": [
    "%%time\n",
    "![ -d data/aclImdb/ ] && echo \"Data already extracted\"\n",
    "![ ! -d data/aclImdb/ ] && tar -xzf data/aclImdb_v1.tar.gz -C data/"
   ]
  },
  {
   "cell_type": "markdown",
   "metadata": {},
   "source": [
    "### Imports"
   ]
  },
  {
   "cell_type": "code",
   "execution_count": 4,
   "metadata": {},
   "outputs": [],
   "source": [
    "import os\n",
    "import re\n",
    "import nltk\n",
    "from collections import Counter\n",
    "from tqdm import tqdm_notebook\n",
    "import numpy as np\n",
    "import tensorflow as tf\n",
    "from tensorflow.contrib import seq2seq\n",
    "from tensorflow.contrib.rnn import DropoutWrapper\n",
    "import random"
   ]
  },
  {
   "cell_type": "code",
   "execution_count": 5,
   "metadata": {},
   "outputs": [],
   "source": [
    "from sklearn.metrics import accuracy_score, f1_score, precision_score, recall_score"
   ]
  },
  {
   "cell_type": "code",
   "execution_count": 6,
   "metadata": {},
   "outputs": [
    {
     "name": "stdout",
     "output_type": "stream",
     "text": [
      "[nltk_data] Downloading package punkt to /home/bishal/nltk_data...\n",
      "[nltk_data]   Package punkt is already up-to-date!\n"
     ]
    },
    {
     "data": {
      "text/plain": [
       "True"
      ]
     },
     "execution_count": 6,
     "metadata": {},
     "output_type": "execute_result"
    }
   ],
   "source": [
    "nltk.download('punkt')"
   ]
  },
  {
   "cell_type": "code",
   "execution_count": 7,
   "metadata": {},
   "outputs": [],
   "source": [
    "MAX_SEQ_LEN = 50\n",
    "BATCH_SIZE = 64"
   ]
  },
  {
   "cell_type": "code",
   "execution_count": 8,
   "metadata": {},
   "outputs": [],
   "source": [
    "class Lang:\n",
    "    def __init__(self, counter, vocab_size):\n",
    "        self.word2id = {}\n",
    "        self.id2word = {}\n",
    "        self.pad = \"<PAD>\"\n",
    "        self.sos = \"<SOS>\"\n",
    "        self.eos = \"<EOS>\"\n",
    "        self.unk = \"<UNK>\"\n",
    "        \n",
    "        self.ipad = 0\n",
    "        self.isos = 1\n",
    "        self.ieos = 2\n",
    "        self.iunk = 3\n",
    "        \n",
    "        self.word2id[self.pad] = 0\n",
    "        self.word2id[self.sos] = 1\n",
    "        self.word2id[self.eos] = 2\n",
    "        self.word2id[self.unk] = 3\n",
    "        \n",
    "        self.id2word[0] = self.pad\n",
    "        self.id2word[1] = self.sos\n",
    "        self.id2word[2] = self.eos\n",
    "        self.id2word[3] = self.unk\n",
    "        \n",
    "        curr_id = 4\n",
    "        for w, c in counter.most_common(vocab_size):\n",
    "            self.word2id[w] = curr_id\n",
    "            self.id2word[curr_id] = w\n",
    "            curr_id += 1\n",
    "    \n",
    "    def encodeSentence(self, wseq, max_len=-1):\n",
    "        # wseq = nltk.tokenize.word_tokenize(s.lower().strip())\n",
    "        if max_len == -1:\n",
    "            return [self.word2id[w] if w in self.word2id else self.iunk for w in wseq]\n",
    "        else:\n",
    "            return ([self.word2id[w] if w in self.word2id else self.iunk for w in wseq] + [self.ieos] + [self.ipad]*max_len)[:max_len]\n",
    "        \n",
    "    def encodeSentence2(self, wseq, max_len=-1):\n",
    "        # wseq = nltk.tokenize.word_tokenize(s.lower().strip()) \n",
    "        return min(max_len, len(wseq)+1), \\\n",
    "            ([self.word2id[w] if w in self.word2id else self.iunk for w in wseq] + \\\n",
    "                [self.ieos] + [self.ipad]*max_len)[:max_len]\n",
    "    \n",
    "    def decodeSentence(self, id_seq):\n",
    "        id_seq = np.array(id_seq + [self.ieos])\n",
    "        j = np.argmax(id_seq==self.ieos)\n",
    "        s = ' '.join([self.id2word[x] for x in id_seq[:j]])\n",
    "        s = s.replace(self.unk, \"UNK\")\n",
    "        return s"
   ]
  },
  {
   "cell_type": "markdown",
   "metadata": {
    "colab_type": "text",
    "id": "YTsqaGfEKyku"
   },
   "source": [
    "### Let's read in the data"
   ]
  },
  {
   "cell_type": "code",
   "execution_count": 9,
   "metadata": {
    "colab": {},
    "colab_type": "code",
    "id": "SJtY9mw6Kykv"
   },
   "outputs": [],
   "source": [
    "data_folder = 'data/aclImdb/'"
   ]
  },
  {
   "cell_type": "code",
   "execution_count": 10,
   "metadata": {
    "colab": {},
    "colab_type": "code",
    "id": "mJOwy_iyKyky"
   },
   "outputs": [],
   "source": [
    "rp = os.path.join(data_folder, 'train/pos')\n",
    "train_positive = [os.path.join(rp, f) for f in os.listdir(rp)]\n",
    "rp = os.path.join(data_folder, 'train/neg')\n",
    "train_negative = [os.path.join(rp, f) for f in os.listdir(rp)]\n",
    "\n",
    "rp = os.path.join(data_folder, 'test/pos')\n",
    "test_positive = [os.path.join(rp, f) for f in os.listdir(rp)]\n",
    "rp = os.path.join(data_folder, 'test/neg')\n",
    "test_negative = [os.path.join(rp, f) for f in os.listdir(rp)]"
   ]
  },
  {
   "cell_type": "markdown",
   "metadata": {
    "colab_type": "text",
    "id": "Pmq06cnLKyk7"
   },
   "source": [
    "#### Limit number of samples\n",
    "To quickly train a small model, consider setting n_train and n_test to some relatively small numbers e.g. `1000`. Set, \n",
    "`n_train = n_test = -1` to use all the samples available."
   ]
  },
  {
   "cell_type": "code",
   "execution_count": 11,
   "metadata": {
    "colab": {},
    "colab_type": "code",
    "id": "-kTiqMYYKyk8"
   },
   "outputs": [],
   "source": [
    "n_train = 100000\n",
    "n_test = 2500"
   ]
  },
  {
   "cell_type": "code",
   "execution_count": 12,
   "metadata": {
    "colab": {},
    "colab_type": "code",
    "id": "TTY671XQKyk4"
   },
   "outputs": [],
   "source": [
    "re_html_cleaner = re.compile(r\"<.*?>\")"
   ]
  },
  {
   "cell_type": "code",
   "execution_count": 13,
   "metadata": {},
   "outputs": [
    {
     "data": {
      "application/vnd.jupyter.widget-view+json": {
       "model_id": "9365b97db8de4128a1172c95030e2755",
       "version_major": 2,
       "version_minor": 0
      },
      "text/plain": [
       "HBox(children=(IntProgress(value=0, description='Crunching +ve samples: ', max=12500, style=ProgressStyle(desc…"
      ]
     },
     "metadata": {},
     "output_type": "display_data"
    },
    {
     "name": "stdout",
     "output_type": "stream",
     "text": [
      "\n"
     ]
    },
    {
     "data": {
      "application/vnd.jupyter.widget-view+json": {
       "model_id": "9adc77dadcb84daa916bf3c9b5af3115",
       "version_major": 2,
       "version_minor": 0
      },
      "text/plain": [
       "HBox(children=(IntProgress(value=0, description='Crunching -ve samples: ', max=12500, style=ProgressStyle(desc…"
      ]
     },
     "metadata": {},
     "output_type": "display_data"
    },
    {
     "name": "stdout",
     "output_type": "stream",
     "text": [
      "\n"
     ]
    }
   ],
   "source": [
    "en_counter = Counter()\n",
    "train_data = []\n",
    "for _fname in tqdm_notebook(train_positive[:n_train], desc=\"Crunching +ve samples: \"):\n",
    "    with open(_fname) as f:\n",
    "        text = f.read().strip()\n",
    "        text = re_html_cleaner.sub(\" \", text)\n",
    "        wseq = nltk.tokenize.word_tokenize(text.lower())\n",
    "        en_counter += Counter(wseq)\n",
    "        train_data.append((wseq, 1))\n",
    "        \n",
    "for _fname in tqdm_notebook(train_negative[:n_train], desc=\"Crunching -ve samples: \"):\n",
    "    with open(_fname) as f:\n",
    "        text = f.read().strip()\n",
    "        text = re_html_cleaner.sub(\" \", text)\n",
    "        wseq = nltk.tokenize.word_tokenize(text.lower())\n",
    "        en_counter += Counter(wseq)\n",
    "        train_data.append((wseq, 0))"
   ]
  },
  {
   "cell_type": "code",
   "execution_count": 14,
   "metadata": {},
   "outputs": [
    {
     "data": {
      "application/vnd.jupyter.widget-view+json": {
       "model_id": "c7dc4416ab9c47c8add00f507f382f4a",
       "version_major": 2,
       "version_minor": 0
      },
      "text/plain": [
       "HBox(children=(IntProgress(value=0, description='Crunching +ve samples: ', max=2500, style=ProgressStyle(descr…"
      ]
     },
     "metadata": {},
     "output_type": "display_data"
    },
    {
     "name": "stdout",
     "output_type": "stream",
     "text": [
      "\n"
     ]
    },
    {
     "data": {
      "application/vnd.jupyter.widget-view+json": {
       "model_id": "4f796396ae604fb09c96d2bae77a8477",
       "version_major": 2,
       "version_minor": 0
      },
      "text/plain": [
       "HBox(children=(IntProgress(value=0, description='Crunching -ve samples: ', max=2500, style=ProgressStyle(descr…"
      ]
     },
     "metadata": {},
     "output_type": "display_data"
    },
    {
     "name": "stdout",
     "output_type": "stream",
     "text": [
      "\n"
     ]
    }
   ],
   "source": [
    "test_data = []\n",
    "for _fname in tqdm_notebook(test_positive[:n_test], desc=\"Crunching +ve samples: \"):\n",
    "    with open(_fname) as f:\n",
    "        text = f.read().strip()\n",
    "        text = re_html_cleaner.sub(\" \", text)\n",
    "        wseq = nltk.tokenize.word_tokenize(text.lower())\n",
    "        test_data.append((wseq, 1))\n",
    "        \n",
    "for _fname in tqdm_notebook(test_negative[:n_test], desc=\"Crunching -ve samples: \"):\n",
    "    with open(_fname) as f:\n",
    "        text = f.read().strip()\n",
    "        text = re_html_cleaner.sub(\" \", text)\n",
    "        wseq = nltk.tokenize.word_tokenize(text.lower())\n",
    "        test_data.append((wseq, 0))"
   ]
  },
  {
   "cell_type": "code",
   "execution_count": 15,
   "metadata": {
    "scrolled": true
   },
   "outputs": [
    {
     "name": "stdout",
     "output_type": "stream",
     "text": [
      "\n",
      "Most common en words in dataset:\n",
      " [('the', 334752), (',', 275881), ('.', 271448), ('and', 163327), ('a', 162162), ('of', 145428), ('to', 135195), ('is', 110396), ('it', 95772), ('in', 93249)]\n",
      "\n",
      "Total (en)words gathered from dataset: 105920\n"
     ]
    }
   ],
   "source": [
    "# A few sample english words\n",
    "print(\"\\nMost common en words in dataset:\\n\", en_counter.most_common(10))\n",
    "\n",
    "print(\"\\nTotal (en)words gathered from dataset:\", len(en_counter))"
   ]
  },
  {
   "cell_type": "code",
   "execution_count": 16,
   "metadata": {},
   "outputs": [],
   "source": [
    "V = 10000"
   ]
  },
  {
   "cell_type": "code",
   "execution_count": 17,
   "metadata": {},
   "outputs": [],
   "source": [
    "en_lang = Lang(en_counter, V)"
   ]
  },
  {
   "cell_type": "code",
   "execution_count": 18,
   "metadata": {
    "scrolled": true
   },
   "outputs": [
    {
     "name": "stdout",
     "output_type": "stream",
     "text": [
      "Test en encoding: [131, 33, 27, 182, 58]\n",
      "Test en decoding: where are you going ?\n"
     ]
    }
   ],
   "source": [
    "wseq = nltk.tokenize.word_tokenize(\"Where are you going?\".lower())\n",
    "print(\"Test en encoding:\", en_lang.encodeSentence(wseq))\n",
    "print(\"Test en decoding:\", en_lang.decodeSentence(en_lang.encodeSentence(wseq, 10)))"
   ]
  },
  {
   "cell_type": "markdown",
   "metadata": {},
   "source": [
    "### The RNN based Sentence Classifier architecture\n",
    "- We will implement a RNN based classifier architecture for sentiment analysis in Tensorflow r1.13.1 / r1.14\n",
    "- Debugging Tip: Always keep track of tensor dimensions!\n",
    "- **Tensorflow Computation Graph** - We will build a tf computation graph first. This is the representation used by tf for any neural network architecture. Once the computation graph is built, you can feed data to it for training or inference"
   ]
  },
  {
   "cell_type": "markdown",
   "metadata": {},
   "source": [
    "#### Word Embedding Matrix"
   ]
  },
  {
   "cell_type": "code",
   "execution_count": 19,
   "metadata": {},
   "outputs": [
    {
     "name": "stdout",
     "output_type": "stream",
     "text": [
      "WARNING:tensorflow:From /home/bishal/miniconda3/envs/tf_gpu/lib/python3.6/site-packages/tensorflow/python/framework/op_def_library.py:263: colocate_with (from tensorflow.python.framework.ops) is deprecated and will be removed in a future version.\n",
      "Instructions for updating:\n",
      "Colocations handled automatically by placer.\n"
     ]
    }
   ],
   "source": [
    "en_word_emb_matrix = tf.get_variable(\"en_word_emb_matrix\", (V, 300), dtype=tf.float32)"
   ]
  },
  {
   "cell_type": "markdown",
   "metadata": {},
   "source": [
    "#### Placeholders"
   ]
  },
  {
   "cell_type": "code",
   "execution_count": 20,
   "metadata": {},
   "outputs": [],
   "source": [
    "keep_prob = tf.placeholder(tf.float32)"
   ]
  },
  {
   "cell_type": "code",
   "execution_count": 21,
   "metadata": {},
   "outputs": [],
   "source": [
    "input_ids = tf.placeholder(tf.int32, (None, MAX_SEQ_LEN))\n",
    "input_lens = tf.placeholder(tf.int32, (None, ))"
   ]
  },
  {
   "cell_type": "code",
   "execution_count": 22,
   "metadata": {},
   "outputs": [],
   "source": [
    "y_placeholder = tf.placeholder(tf.int32, (None,))"
   ]
  },
  {
   "cell_type": "markdown",
   "metadata": {},
   "source": [
    "#### Tensorflow Graphs"
   ]
  },
  {
   "cell_type": "code",
   "execution_count": 23,
   "metadata": {},
   "outputs": [],
   "source": [
    "input_emb = tf.nn.embedding_lookup(en_word_emb_matrix, input_ids)"
   ]
  },
  {
   "cell_type": "code",
   "execution_count": 24,
   "metadata": {},
   "outputs": [
    {
     "data": {
      "text/plain": [
       "TensorShape([Dimension(None), Dimension(50), Dimension(300)])"
      ]
     },
     "execution_count": 24,
     "metadata": {},
     "output_type": "execute_result"
    }
   ],
   "source": [
    "input_emb.shape"
   ]
  },
  {
   "cell_type": "markdown",
   "metadata": {},
   "source": [
    "#### Encoder"
   ]
  },
  {
   "cell_type": "markdown",
   "metadata": {},
   "source": [
    "##### RNN Units"
   ]
  },
  {
   "cell_type": "code",
   "execution_count": 25,
   "metadata": {},
   "outputs": [
    {
     "name": "stdout",
     "output_type": "stream",
     "text": [
      "WARNING:tensorflow:From <ipython-input-25-c099abfdff6c>:1: GRUCell.__init__ (from tensorflow.python.ops.rnn_cell_impl) is deprecated and will be removed in a future version.\n",
      "Instructions for updating:\n",
      "This class is equivalent as tf.keras.layers.GRUCell, and will be replaced by that in Tensorflow 2.0.\n"
     ]
    }
   ],
   "source": [
    "encoder_cell = tf.nn.rnn_cell.GRUCell(128)\n",
    "encoder_cell = DropoutWrapper(encoder_cell, output_keep_prob=keep_prob)"
   ]
  },
  {
   "cell_type": "code",
   "execution_count": 26,
   "metadata": {},
   "outputs": [
    {
     "name": "stdout",
     "output_type": "stream",
     "text": [
      "WARNING:tensorflow:From <ipython-input-26-20566d338e2e>:2: dynamic_rnn (from tensorflow.python.ops.rnn) is deprecated and will be removed in a future version.\n",
      "Instructions for updating:\n",
      "Please use `keras.layers.RNN(cell)`, which is equivalent to this API\n",
      "WARNING:tensorflow:From /home/bishal/miniconda3/envs/tf_gpu/lib/python3.6/site-packages/tensorflow/python/ops/rnn.py:626: to_int32 (from tensorflow.python.ops.math_ops) is deprecated and will be removed in a future version.\n",
      "Instructions for updating:\n",
      "Use tf.cast instead.\n",
      "WARNING:tensorflow:From /home/bishal/miniconda3/envs/tf_gpu/lib/python3.6/site-packages/tensorflow/python/ops/rnn_cell_impl.py:1259: calling dropout (from tensorflow.python.ops.nn_ops) with keep_prob is deprecated and will be removed in a future version.\n",
      "Instructions for updating:\n",
      "Please use `rate` instead of `keep_prob`. Rate should be set to `rate = 1 - keep_prob`.\n"
     ]
    }
   ],
   "source": [
    "enc_outputs, enc_state = tf.nn.dynamic_rnn(\n",
    "    encoder_cell, input_emb, sequence_length=input_lens, initial_state=encoder_cell.zero_state(BATCH_SIZE, dtype=tf.float32)\n",
    ")"
   ]
  },
  {
   "cell_type": "code",
   "execution_count": 27,
   "metadata": {},
   "outputs": [
    {
     "data": {
      "text/plain": [
       "TensorShape([Dimension(64), Dimension(50), Dimension(128)])"
      ]
     },
     "execution_count": 27,
     "metadata": {},
     "output_type": "execute_result"
    }
   ],
   "source": [
    "enc_outputs.shape"
   ]
  },
  {
   "cell_type": "code",
   "execution_count": 28,
   "metadata": {},
   "outputs": [
    {
     "data": {
      "text/plain": [
       "TensorShape([Dimension(64), Dimension(128)])"
      ]
     },
     "execution_count": 28,
     "metadata": {},
     "output_type": "execute_result"
    }
   ],
   "source": [
    "enc_state.shape"
   ]
  },
  {
   "cell_type": "markdown",
   "metadata": {},
   "source": [
    "### Classifier Layer"
   ]
  },
  {
   "cell_type": "code",
   "execution_count": 29,
   "metadata": {},
   "outputs": [],
   "source": [
    "dense_layer = tf.layers.Dense(1)"
   ]
  },
  {
   "cell_type": "markdown",
   "metadata": {},
   "source": [
    "#### Approaches:\n",
    "As input to the final linear layers use mean of the hidden states?\n",
    "\n",
    "or\n",
    "\n",
    "As input to the final linear layers use the last hidden state?"
   ]
  },
  {
   "cell_type": "markdown",
   "metadata": {},
   "source": [
    "##### Approch 1: Take mean of enc_outputs across dimension 1\n",
    "- **IMPORTANT:** Need to **mask** the positions in input sentence that doesn't contain any inputs"
   ]
  },
  {
   "cell_type": "code",
   "execution_count": 30,
   "metadata": {},
   "outputs": [],
   "source": [
    "# masks = tf.sequence_mask(input_lens, MAX_SEQ_LEN, dtype=tf.float32, name='masks')\n",
    "# class_prob = tf.nn.sigmoid(\n",
    "#                 dense_layer(\n",
    "#                     tf.reduce_mean(\n",
    "#                         enc_outputs*masks[:, :, None], 1)\n",
    "#                 )\n",
    "# ) \n",
    "\n",
    "# print(class_prob.shape)"
   ]
  },
  {
   "cell_type": "markdown",
   "metadata": {},
   "source": [
    "##### Approch 2: Use enc_state (final hidden state)"
   ]
  },
  {
   "cell_type": "code",
   "execution_count": 31,
   "metadata": {},
   "outputs": [
    {
     "name": "stdout",
     "output_type": "stream",
     "text": [
      "(64, 1)\n"
     ]
    }
   ],
   "source": [
    "class_prob = tf.nn.sigmoid(dense_layer(enc_state))\n",
    "print(class_prob.shape)"
   ]
  },
  {
   "cell_type": "markdown",
   "metadata": {},
   "source": [
    "#### Loss and Optimizers [softmax_cross_entropy]\n",
    "Note that `onehot_labels` and `logits` must have the same shape, e.g. `[batch_size, num_classes]`"
   ]
  },
  {
   "cell_type": "code",
   "execution_count": 32,
   "metadata": {},
   "outputs": [
    {
     "name": "stdout",
     "output_type": "stream",
     "text": [
      "(?,)\n",
      "(64, 1)\n"
     ]
    }
   ],
   "source": [
    "print(y_placeholder.shape)\n",
    "print(class_prob.shape)"
   ]
  },
  {
   "cell_type": "code",
   "execution_count": 33,
   "metadata": {},
   "outputs": [],
   "source": [
    "# Loss function - softmax cross entropy\n",
    "y_ = tf.cast(y_placeholder[:, None], dtype=tf.float32)\n",
    "cost = -y_*tf.log(class_prob + 1e-12) - (1-y_)*tf.log(1-class_prob + 1e-12)\n",
    "cost = tf.reduce_mean(cost)\n",
    "\n",
    "# Optimizer\n",
    "optimizer = tf.train.AdamOptimizer(0.0001)"
   ]
  },
  {
   "cell_type": "code",
   "execution_count": 34,
   "metadata": {},
   "outputs": [],
   "source": [
    "train_op = optimizer.minimize(cost)"
   ]
  },
  {
   "cell_type": "code",
   "execution_count": 35,
   "metadata": {},
   "outputs": [],
   "source": [
    "init = tf.global_variables_initializer()"
   ]
  },
  {
   "cell_type": "markdown",
   "metadata": {},
   "source": [
    "#### Tensorflow Sessions"
   ]
  },
  {
   "cell_type": "code",
   "execution_count": 36,
   "metadata": {},
   "outputs": [],
   "source": [
    "sess_config = tf.ConfigProto()\n",
    "sess_config.gpu_options.allow_growth = True"
   ]
  },
  {
   "cell_type": "code",
   "execution_count": 37,
   "metadata": {},
   "outputs": [],
   "source": [
    "sess = tf.InteractiveSession(config=sess_config)\n",
    "sess.run(init)"
   ]
  },
  {
   "cell_type": "markdown",
   "metadata": {},
   "source": [
    "#### Minibatch Training"
   ]
  },
  {
   "cell_type": "code",
   "execution_count": 38,
   "metadata": {},
   "outputs": [],
   "source": [
    "random.seed(41)"
   ]
  },
  {
   "cell_type": "code",
   "execution_count": 39,
   "metadata": {},
   "outputs": [],
   "source": [
    "random.shuffle(train_data)"
   ]
  },
  {
   "cell_type": "code",
   "execution_count": 40,
   "metadata": {},
   "outputs": [],
   "source": [
    "train_n = len(train_data)"
   ]
  },
  {
   "cell_type": "code",
   "execution_count": 41,
   "metadata": {},
   "outputs": [],
   "source": [
    "test_n = len(test_data)"
   ]
  },
  {
   "cell_type": "code",
   "execution_count": 42,
   "metadata": {},
   "outputs": [],
   "source": [
    "def small_test():\n",
    "    all_true = []\n",
    "    all_preds = []\n",
    "    for m in range(0, test_n, BATCH_SIZE):\n",
    "        n = m + BATCH_SIZE\n",
    "        if n > test_n:\n",
    "            break\n",
    "\n",
    "        input_batch = np.zeros((BATCH_SIZE, MAX_SEQ_LEN), dtype=np.int32)\n",
    "        input_lens_batch = np.zeros((BATCH_SIZE,), dtype=np.int32)\n",
    "        true_class_batch = np.zeros((BATCH_SIZE))\n",
    "        for i in range(m, n):\n",
    "            b,a = en_lang.encodeSentence2(test_data[i][0], MAX_SEQ_LEN)\n",
    "            input_batch[i-m,:] = a\n",
    "            input_lens_batch[i-m] = b\n",
    "            true_class_batch[i-m] = test_data[i][1]\n",
    "\n",
    "        feed_dict={\n",
    "            input_ids: input_batch,\n",
    "            input_lens: input_lens_batch,\n",
    "            keep_prob: 1.0\n",
    "        }\n",
    "        pred_batch = sess.run(class_prob, feed_dict=feed_dict)\n",
    "        # acc = accuracy_score(true_class_batch, pred_batch > 0.5)\n",
    "        all_true.extend(list(true_class_batch))\n",
    "        all_preds.extend(list(pred_batch[:,0]))\n",
    "    \n",
    "    all_true = np.array(all_true)\n",
    "    all_preds = np.array(all_preds)\n",
    "    prec = precision_score(all_true, all_preds > 0.5)*100\n",
    "    rec = recall_score(all_true, all_preds > 0.5)*100\n",
    "    f1 = f1_score(all_true, all_preds > 0.5)*100\n",
    "    print(f\"Precision: {prec:2.2F}, Recall: {rec:2.2F}, F1-Score: {f1:2.2F}\")"
   ]
  },
  {
   "cell_type": "code",
   "execution_count": 43,
   "metadata": {
    "scrolled": true
   },
   "outputs": [
    {
     "data": {
      "application/vnd.jupyter.widget-view+json": {
       "model_id": "22c2974f5fc740ee9d9f43f74d5dd881",
       "version_major": 2,
       "version_minor": 0
      },
      "text/plain": [
       "HBox(children=(IntProgress(value=0, max=391), HTML(value='')))"
      ]
     },
     "metadata": {},
     "output_type": "display_data"
    },
    {
     "name": "stdout",
     "output_type": "stream",
     "text": [
      "Precision: 50.74, Recall: 80.44, F1-Score: 62.23\n",
      "Precision: 50.76, Recall: 92.76, F1-Score: 65.61\n",
      "Precision: 50.61, Recall: 97.24, F1-Score: 66.58\n",
      "Precision: 51.75, Recall: 86.72, F1-Score: 64.82\n",
      "Precision: 52.54, Recall: 84.52, F1-Score: 64.80\n",
      "Precision: 54.47, Recall: 76.56, F1-Score: 63.65\n",
      "Precision: 56.35, Recall: 71.20, F1-Score: 62.91\n",
      "Precision: 57.53, Recall: 60.08, F1-Score: 58.78\n",
      "Precision: 59.51, Recall: 53.32, F1-Score: 56.24\n",
      "Precision: 63.29, Recall: 40.76, F1-Score: 49.59\n",
      "Precision: 63.80, Recall: 49.84, F1-Score: 55.96\n",
      "Precision: 76.80, Recall: 13.64, F1-Score: 23.17\n",
      "Precision: 70.77, Recall: 46.20, F1-Score: 55.91\n",
      "Precision: 62.87, Recall: 74.04, F1-Score: 68.00\n",
      "Precision: 67.55, Recall: 68.36, F1-Score: 67.95\n",
      "Precision: 71.00, Recall: 62.76, F1-Score: 66.62\n",
      "Precision: 67.52, Recall: 74.08, F1-Score: 70.65\n",
      "Precision: 73.48, Recall: 59.96, F1-Score: 66.04\n",
      "Precision: 65.91, Recall: 81.52, F1-Score: 72.89\n",
      "Precision: 72.93, Recall: 64.44, F1-Score: 68.42\n",
      "Precision: 67.07, Recall: 82.44, F1-Score: 73.96\n",
      "Precision: 76.70, Recall: 59.40, F1-Score: 66.95\n",
      "Precision: 69.37, Recall: 77.92, F1-Score: 73.40\n",
      "Precision: 74.18, Recall: 64.80, F1-Score: 69.17\n",
      "Precision: 68.60, Recall: 80.84, F1-Score: 74.22\n",
      "Precision: 73.24, Recall: 70.52, F1-Score: 71.86\n",
      "Precision: 72.73, Recall: 72.96, F1-Score: 72.84\n",
      "Precision: 70.76, Recall: 76.84, F1-Score: 73.67\n",
      "Precision: 70.80, Recall: 77.48, F1-Score: 73.99\n",
      "Precision: 71.35, Recall: 77.20, F1-Score: 74.16\n",
      "Precision: 72.22, Recall: 75.28, F1-Score: 73.72\n",
      "Precision: 76.12, Recall: 69.36, F1-Score: 72.58\n",
      "Precision: 73.16, Recall: 74.56, F1-Score: 73.85\n",
      "Precision: 73.34, Recall: 74.16, F1-Score: 73.75\n",
      "Precision: 72.71, Recall: 76.84, F1-Score: 74.72\n",
      "Precision: 75.99, Recall: 71.64, F1-Score: 73.75\n",
      "Precision: 71.95, Recall: 78.92, F1-Score: 75.28\n",
      "Precision: 74.07, Recall: 74.40, F1-Score: 74.24\n",
      "Precision: 74.13, Recall: 74.52, F1-Score: 74.33\n",
      "\n"
     ]
    },
    {
     "data": {
      "application/vnd.jupyter.widget-view+json": {
       "model_id": "d27e2ef940f84fd3baef81e6c0b95e88",
       "version_major": 2,
       "version_minor": 0
      },
      "text/plain": [
       "HBox(children=(IntProgress(value=0, max=391), HTML(value='')))"
      ]
     },
     "metadata": {},
     "output_type": "display_data"
    },
    {
     "name": "stdout",
     "output_type": "stream",
     "text": [
      "Precision: 70.45, Recall: 81.84, F1-Score: 75.72\n",
      "Precision: 75.92, Recall: 71.88, F1-Score: 73.84\n",
      "Precision: 75.89, Recall: 71.28, F1-Score: 73.51\n",
      "Precision: 75.09, Recall: 72.84, F1-Score: 73.95\n",
      "Precision: 72.47, Recall: 78.24, F1-Score: 75.25\n",
      "Precision: 75.10, Recall: 72.64, F1-Score: 73.85\n",
      "Precision: 74.96, Recall: 71.36, F1-Score: 73.11\n",
      "Precision: 72.42, Recall: 77.52, F1-Score: 74.88\n",
      "Precision: 74.91, Recall: 73.80, F1-Score: 74.35\n",
      "Precision: 74.69, Recall: 74.48, F1-Score: 74.58\n",
      "Precision: 73.85, Recall: 73.20, F1-Score: 73.52\n",
      "Precision: 74.28, Recall: 74.76, F1-Score: 74.52\n",
      "Precision: 73.04, Recall: 77.92, F1-Score: 75.40\n",
      "Precision: 72.79, Recall: 76.60, F1-Score: 74.64\n",
      "Precision: 76.84, Recall: 69.28, F1-Score: 72.86\n",
      "Precision: 71.42, Recall: 79.96, F1-Score: 75.45\n",
      "Precision: 79.64, Recall: 62.28, F1-Score: 69.90\n",
      "Precision: 73.08, Recall: 77.52, F1-Score: 75.23\n",
      "Precision: 72.75, Recall: 78.48, F1-Score: 75.51\n",
      "Precision: 77.33, Recall: 69.16, F1-Score: 73.02\n",
      "Precision: 76.10, Recall: 71.96, F1-Score: 73.97\n",
      "Precision: 73.42, Recall: 77.44, F1-Score: 75.37\n",
      "Precision: 77.27, Recall: 68.40, F1-Score: 72.57\n",
      "Precision: 71.97, Recall: 80.00, F1-Score: 75.77\n",
      "Precision: 75.34, Recall: 72.60, F1-Score: 73.95\n",
      "Precision: 75.43, Recall: 74.16, F1-Score: 74.79\n",
      "Precision: 76.87, Recall: 71.00, F1-Score: 73.82\n",
      "Precision: 75.58, Recall: 73.68, F1-Score: 74.62\n",
      "Precision: 77.37, Recall: 71.24, F1-Score: 74.18\n",
      "Precision: 71.65, Recall: 80.56, F1-Score: 75.84\n",
      "Precision: 75.35, Recall: 73.60, F1-Score: 74.46\n",
      "Precision: 75.09, Recall: 75.72, F1-Score: 75.40\n",
      "Precision: 76.49, Recall: 72.24, F1-Score: 74.31\n",
      "Precision: 75.90, Recall: 73.96, F1-Score: 74.92\n",
      "Precision: 73.58, Recall: 77.44, F1-Score: 75.46\n",
      "Precision: 74.84, Recall: 75.68, F1-Score: 75.26\n",
      "Precision: 76.85, Recall: 71.96, F1-Score: 74.32\n",
      "Precision: 77.03, Recall: 70.04, F1-Score: 73.37\n",
      "Precision: 74.92, Recall: 75.88, F1-Score: 75.40\n",
      "\n"
     ]
    },
    {
     "data": {
      "application/vnd.jupyter.widget-view+json": {
       "model_id": "05a5c8c4ce0a478c9975c474b8a07b13",
       "version_major": 2,
       "version_minor": 0
      },
      "text/plain": [
       "HBox(children=(IntProgress(value=0, max=391), HTML(value='')))"
      ]
     },
     "metadata": {},
     "output_type": "display_data"
    },
    {
     "name": "stdout",
     "output_type": "stream",
     "text": [
      "Precision: 73.69, Recall: 76.40, F1-Score: 75.02\n",
      "Precision: 78.81, Recall: 67.24, F1-Score: 72.57\n",
      "Precision: 70.64, Recall: 81.24, F1-Score: 75.57\n",
      "Precision: 77.25, Recall: 70.24, F1-Score: 73.58\n",
      "Precision: 77.08, Recall: 70.76, F1-Score: 73.79\n",
      "Precision: 74.09, Recall: 74.24, F1-Score: 74.17\n",
      "Precision: 78.40, Recall: 68.24, F1-Score: 72.97\n",
      "Precision: 74.59, Recall: 72.68, F1-Score: 73.62\n",
      "Precision: 75.25, Recall: 73.96, F1-Score: 74.60\n",
      "Precision: 71.82, Recall: 77.88, F1-Score: 74.73\n",
      "Precision: 76.41, Recall: 69.56, F1-Score: 72.82\n",
      "Precision: 71.31, Recall: 80.12, F1-Score: 75.46\n",
      "Precision: 73.86, Recall: 74.16, F1-Score: 74.01\n",
      "Precision: 79.86, Recall: 62.16, F1-Score: 69.91\n",
      "Precision: 70.70, Recall: 80.96, F1-Score: 75.48\n",
      "Precision: 77.59, Recall: 66.60, F1-Score: 71.67\n",
      "Precision: 77.29, Recall: 68.48, F1-Score: 72.62\n",
      "Precision: 70.30, Recall: 81.44, F1-Score: 75.46\n",
      "Precision: 77.25, Recall: 67.64, F1-Score: 72.13\n",
      "Precision: 75.70, Recall: 72.04, F1-Score: 73.83\n",
      "Precision: 77.93, Recall: 67.08, F1-Score: 72.10\n",
      "Precision: 71.48, Recall: 79.00, F1-Score: 75.05\n",
      "Precision: 77.70, Recall: 68.28, F1-Score: 72.68\n",
      "Precision: 73.23, Recall: 76.80, F1-Score: 74.97\n",
      "Precision: 76.03, Recall: 71.68, F1-Score: 73.79\n",
      "Precision: 74.52, Recall: 74.52, F1-Score: 74.52\n",
      "Precision: 73.37, Recall: 76.48, F1-Score: 74.89\n",
      "Precision: 75.24, Recall: 73.16, F1-Score: 74.18\n",
      "Precision: 73.54, Recall: 75.48, F1-Score: 74.50\n",
      "Precision: 73.41, Recall: 76.20, F1-Score: 74.78\n",
      "Precision: 77.37, Recall: 68.12, F1-Score: 72.45\n",
      "Precision: 71.87, Recall: 80.24, F1-Score: 75.83\n",
      "Precision: 76.10, Recall: 72.48, F1-Score: 74.25\n",
      "Precision: 75.78, Recall: 71.84, F1-Score: 73.76\n",
      "Precision: 73.82, Recall: 74.32, F1-Score: 74.07\n",
      "Precision: 71.94, Recall: 78.04, F1-Score: 74.87\n",
      "Precision: 75.47, Recall: 72.60, F1-Score: 74.01\n",
      "Precision: 74.57, Recall: 73.68, F1-Score: 74.12\n",
      "Precision: 75.56, Recall: 72.84, F1-Score: 74.18\n",
      "\n"
     ]
    },
    {
     "data": {
      "application/vnd.jupyter.widget-view+json": {
       "model_id": "0a6c19a81360425ba1636696a48ce53c",
       "version_major": 2,
       "version_minor": 0
      },
      "text/plain": [
       "HBox(children=(IntProgress(value=0, max=391), HTML(value='')))"
      ]
     },
     "metadata": {},
     "output_type": "display_data"
    },
    {
     "name": "stdout",
     "output_type": "stream",
     "text": [
      "Precision: 75.24, Recall: 71.96, F1-Score: 73.56\n",
      "Precision: 73.82, Recall: 74.00, F1-Score: 73.91\n",
      "Precision: 74.29, Recall: 73.64, F1-Score: 73.97\n",
      "Precision: 74.35, Recall: 72.80, F1-Score: 73.57\n",
      "Precision: 73.28, Recall: 73.16, F1-Score: 73.22\n",
      "Precision: 73.44, Recall: 74.32, F1-Score: 73.88\n",
      "Precision: 74.15, Recall: 71.72, F1-Score: 72.92\n",
      "Precision: 75.28, Recall: 70.16, F1-Score: 72.63\n",
      "Precision: 74.57, Recall: 71.44, F1-Score: 72.97\n",
      "Precision: 75.39, Recall: 70.08, F1-Score: 72.64\n",
      "Precision: 72.68, Recall: 74.28, F1-Score: 73.47\n",
      "Precision: 74.68, Recall: 71.24, F1-Score: 72.92\n",
      "Precision: 73.32, Recall: 73.20, F1-Score: 73.26\n",
      "Precision: 74.08, Recall: 71.80, F1-Score: 72.92\n",
      "Precision: 74.47, Recall: 71.28, F1-Score: 72.84\n",
      "Precision: 72.85, Recall: 75.44, F1-Score: 74.12\n",
      "Precision: 75.36, Recall: 70.36, F1-Score: 72.78\n",
      "Precision: 73.24, Recall: 73.36, F1-Score: 73.30\n",
      "Precision: 74.25, Recall: 72.32, F1-Score: 73.27\n",
      "Precision: 74.88, Recall: 70.72, F1-Score: 72.74\n",
      "Precision: 74.40, Recall: 71.96, F1-Score: 73.16\n",
      "Precision: 74.58, Recall: 72.16, F1-Score: 73.35\n",
      "Precision: 74.09, Recall: 73.88, F1-Score: 73.98\n",
      "Precision: 74.70, Recall: 71.68, F1-Score: 73.16\n",
      "Precision: 74.25, Recall: 73.92, F1-Score: 74.08\n",
      "Precision: 75.25, Recall: 72.60, F1-Score: 73.90\n",
      "Precision: 75.24, Recall: 73.28, F1-Score: 74.25\n",
      "Precision: 77.04, Recall: 69.40, F1-Score: 73.02\n",
      "Precision: 70.47, Recall: 80.36, F1-Score: 75.09\n",
      "Precision: 77.51, Recall: 68.64, F1-Score: 72.80\n",
      "Precision: 71.31, Recall: 79.04, F1-Score: 74.98\n",
      "Precision: 76.42, Recall: 70.28, F1-Score: 73.22\n",
      "Precision: 75.73, Recall: 71.40, F1-Score: 73.50\n",
      "Precision: 73.35, Recall: 74.96, F1-Score: 74.14\n",
      "Precision: 77.18, Recall: 67.52, F1-Score: 72.03\n",
      "Precision: 72.20, Recall: 77.48, F1-Score: 74.74\n",
      "Precision: 78.52, Recall: 65.64, F1-Score: 71.50\n",
      "Precision: 73.21, Recall: 75.32, F1-Score: 74.25\n",
      "Precision: 75.92, Recall: 71.76, F1-Score: 73.78\n",
      "\n"
     ]
    },
    {
     "data": {
      "application/vnd.jupyter.widget-view+json": {
       "model_id": "45fa778f5300409c868dbf377ad537a5",
       "version_major": 2,
       "version_minor": 0
      },
      "text/plain": [
       "HBox(children=(IntProgress(value=0, max=391), HTML(value='')))"
      ]
     },
     "metadata": {},
     "output_type": "display_data"
    },
    {
     "name": "stdout",
     "output_type": "stream",
     "text": [
      "Precision: 74.02, Recall: 73.16, F1-Score: 73.59\n",
      "Precision: 75.87, Recall: 69.04, F1-Score: 72.29\n",
      "Precision: 73.10, Recall: 75.00, F1-Score: 74.04\n",
      "Precision: 74.95, Recall: 70.36, F1-Score: 72.58\n",
      "Precision: 73.87, Recall: 72.24, F1-Score: 73.04\n",
      "Precision: 74.07, Recall: 72.20, F1-Score: 73.12\n",
      "Precision: 73.97, Recall: 71.16, F1-Score: 72.54\n",
      "Precision: 74.29, Recall: 72.36, F1-Score: 73.31\n",
      "Precision: 73.85, Recall: 72.08, F1-Score: 72.96\n",
      "Precision: 73.44, Recall: 72.00, F1-Score: 72.71\n",
      "Precision: 75.43, Recall: 69.88, F1-Score: 72.55\n",
      "Precision: 72.64, Recall: 74.88, F1-Score: 73.74\n",
      "Precision: 73.34, Recall: 73.96, F1-Score: 73.65\n",
      "Precision: 73.70, Recall: 73.08, F1-Score: 73.39\n",
      "Precision: 71.00, Recall: 77.48, F1-Score: 74.10\n",
      "Precision: 76.80, Recall: 69.00, F1-Score: 72.69\n",
      "Precision: 72.80, Recall: 74.96, F1-Score: 73.87\n",
      "Precision: 72.93, Recall: 75.12, F1-Score: 74.01\n",
      "Precision: 72.18, Recall: 75.64, F1-Score: 73.87\n",
      "Precision: 76.48, Recall: 69.96, F1-Score: 73.07\n",
      "Precision: 74.77, Recall: 72.08, F1-Score: 73.40\n",
      "Precision: 73.94, Recall: 72.88, F1-Score: 73.41\n",
      "Precision: 76.40, Recall: 69.16, F1-Score: 72.60\n",
      "Precision: 72.49, Recall: 77.16, F1-Score: 74.75\n",
      "Precision: 76.64, Recall: 68.12, F1-Score: 72.13\n",
      "Precision: 74.54, Recall: 70.28, F1-Score: 72.35\n",
      "Precision: 74.82, Recall: 72.28, F1-Score: 73.53\n",
      "Precision: 73.99, Recall: 72.60, F1-Score: 73.29\n",
      "Precision: 76.26, Recall: 69.24, F1-Score: 72.58\n",
      "Precision: 73.19, Recall: 73.48, F1-Score: 73.33\n",
      "Precision: 74.52, Recall: 71.60, F1-Score: 73.03\n",
      "Precision: 75.40, Recall: 69.28, F1-Score: 72.21\n",
      "Precision: 74.19, Recall: 72.80, F1-Score: 73.49\n",
      "Precision: 74.60, Recall: 71.44, F1-Score: 72.99\n",
      "Precision: 75.69, Recall: 69.88, F1-Score: 72.67\n",
      "Precision: 74.05, Recall: 71.80, F1-Score: 72.91\n",
      "Precision: 72.88, Recall: 74.40, F1-Score: 73.63\n",
      "Precision: 74.30, Recall: 72.40, F1-Score: 73.34\n",
      "Precision: 75.39, Recall: 71.08, F1-Score: 73.17\n",
      "\n"
     ]
    },
    {
     "data": {
      "application/vnd.jupyter.widget-view+json": {
       "model_id": "7206593159bc492ab359799a494a1a82",
       "version_major": 2,
       "version_minor": 0
      },
      "text/plain": [
       "HBox(children=(IntProgress(value=0, max=391), HTML(value='')))"
      ]
     },
     "metadata": {},
     "output_type": "display_data"
    },
    {
     "name": "stdout",
     "output_type": "stream",
     "text": [
      "Precision: 73.64, Recall: 73.20, F1-Score: 73.42\n",
      "Precision: 74.67, Recall: 69.92, F1-Score: 72.22\n",
      "Precision: 73.96, Recall: 70.56, F1-Score: 72.22\n",
      "Precision: 73.60, Recall: 72.36, F1-Score: 72.97\n",
      "Precision: 75.13, Recall: 69.24, F1-Score: 72.06\n",
      "Precision: 72.66, Recall: 72.40, F1-Score: 72.53\n",
      "Precision: 74.60, Recall: 70.60, F1-Score: 72.54\n",
      "Precision: 72.22, Recall: 74.56, F1-Score: 73.37\n",
      "Precision: 76.74, Recall: 65.44, F1-Score: 70.64\n",
      "Precision: 71.94, Recall: 75.80, F1-Score: 73.82\n",
      "Precision: 75.33, Recall: 69.36, F1-Score: 72.22\n",
      "Precision: 72.63, Recall: 75.88, F1-Score: 74.22\n",
      "Precision: 75.16, Recall: 68.64, F1-Score: 71.75\n",
      "Precision: 72.84, Recall: 75.00, F1-Score: 73.91\n",
      "Precision: 72.89, Recall: 75.08, F1-Score: 73.97\n",
      "Precision: 75.02, Recall: 69.56, F1-Score: 72.19\n",
      "Precision: 73.04, Recall: 74.56, F1-Score: 73.79\n",
      "Precision: 74.28, Recall: 70.00, F1-Score: 72.08\n",
      "Precision: 73.20, Recall: 73.32, F1-Score: 73.26\n",
      "Precision: 74.03, Recall: 72.28, F1-Score: 73.14\n",
      "Precision: 73.24, Recall: 73.80, F1-Score: 73.52\n",
      "Precision: 71.63, Recall: 75.04, F1-Score: 73.30\n",
      "Precision: 76.57, Recall: 66.52, F1-Score: 71.19\n",
      "Precision: 73.06, Recall: 73.56, F1-Score: 73.31\n",
      "Precision: 76.79, Recall: 66.56, F1-Score: 71.31\n",
      "Precision: 74.78, Recall: 70.32, F1-Score: 72.48\n",
      "Precision: 71.53, Recall: 76.88, F1-Score: 74.11\n",
      "Precision: 76.93, Recall: 66.96, F1-Score: 71.60\n",
      "Precision: 72.83, Recall: 74.08, F1-Score: 73.45\n",
      "Precision: 74.47, Recall: 72.92, F1-Score: 73.69\n",
      "Precision: 74.64, Recall: 72.16, F1-Score: 73.38\n",
      "Precision: 74.79, Recall: 72.52, F1-Score: 73.64\n",
      "Precision: 73.80, Recall: 73.92, F1-Score: 73.86\n",
      "Precision: 75.20, Recall: 70.12, F1-Score: 72.57\n",
      "Precision: 74.31, Recall: 73.36, F1-Score: 73.83\n",
      "Precision: 76.22, Recall: 68.20, F1-Score: 71.99\n",
      "Precision: 76.58, Recall: 68.80, F1-Score: 72.48\n",
      "Precision: 74.64, Recall: 71.36, F1-Score: 72.97\n",
      "Precision: 73.85, Recall: 73.08, F1-Score: 73.46\n",
      "\n"
     ]
    },
    {
     "data": {
      "application/vnd.jupyter.widget-view+json": {
       "model_id": "26bbd9128321416d990c8163be7f247f",
       "version_major": 2,
       "version_minor": 0
      },
      "text/plain": [
       "HBox(children=(IntProgress(value=0, max=391), HTML(value='')))"
      ]
     },
     "metadata": {},
     "output_type": "display_data"
    },
    {
     "name": "stdout",
     "output_type": "stream",
     "text": [
      "Precision: 72.06, Recall: 75.84, F1-Score: 73.90\n",
      "Precision: 74.93, Recall: 69.00, F1-Score: 71.85\n",
      "Precision: 73.14, Recall: 72.88, F1-Score: 73.01\n",
      "Precision: 73.81, Recall: 71.60, F1-Score: 72.69\n",
      "Precision: 74.17, Recall: 71.08, F1-Score: 72.59\n",
      "Precision: 73.48, Recall: 71.92, F1-Score: 72.69\n",
      "Precision: 72.20, Recall: 74.60, F1-Score: 73.38\n",
      "Precision: 74.62, Recall: 70.08, F1-Score: 72.28\n",
      "Precision: 72.15, Recall: 75.32, F1-Score: 73.70\n",
      "Precision: 74.73, Recall: 68.60, F1-Score: 71.53\n",
      "Precision: 73.64, Recall: 70.84, F1-Score: 72.21\n",
      "Precision: 72.81, Recall: 71.24, F1-Score: 72.02\n",
      "Precision: 73.65, Recall: 70.56, F1-Score: 72.07\n",
      "Precision: 71.02, Recall: 75.48, F1-Score: 73.18\n",
      "Precision: 74.02, Recall: 68.28, F1-Score: 71.04\n",
      "Precision: 72.29, Recall: 72.32, F1-Score: 72.31\n",
      "Precision: 72.96, Recall: 71.88, F1-Score: 72.42\n",
      "Precision: 72.24, Recall: 73.92, F1-Score: 73.07\n",
      "Precision: 73.28, Recall: 71.84, F1-Score: 72.55\n",
      "Precision: 75.82, Recall: 64.84, F1-Score: 69.90\n",
      "Precision: 71.12, Recall: 75.44, F1-Score: 73.21\n",
      "Precision: 72.76, Recall: 73.84, F1-Score: 73.30\n",
      "Precision: 76.33, Recall: 65.64, F1-Score: 70.58\n",
      "Precision: 72.20, Recall: 74.48, F1-Score: 73.32\n",
      "Precision: 74.35, Recall: 70.60, F1-Score: 72.43\n",
      "Precision: 73.15, Recall: 72.68, F1-Score: 72.91\n",
      "Precision: 75.27, Recall: 67.32, F1-Score: 71.07\n",
      "Precision: 74.45, Recall: 70.16, F1-Score: 72.24\n",
      "Precision: 74.53, Recall: 70.36, F1-Score: 72.39\n",
      "Precision: 73.81, Recall: 72.04, F1-Score: 72.91\n",
      "Precision: 75.88, Recall: 68.44, F1-Score: 71.97\n",
      "Precision: 73.78, Recall: 71.80, F1-Score: 72.78\n",
      "Precision: 76.31, Recall: 66.24, F1-Score: 70.92\n",
      "Precision: 73.85, Recall: 72.76, F1-Score: 73.30\n",
      "Precision: 72.75, Recall: 74.76, F1-Score: 73.74\n",
      "Precision: 72.85, Recall: 74.60, F1-Score: 73.72\n",
      "Precision: 74.92, Recall: 69.20, F1-Score: 71.95\n",
      "Precision: 73.71, Recall: 72.12, F1-Score: 72.91\n",
      "Precision: 75.93, Recall: 66.36, F1-Score: 70.82\n",
      "\n"
     ]
    },
    {
     "data": {
      "application/vnd.jupyter.widget-view+json": {
       "model_id": "2a997ea7929f4a86b00f1b8817fa09d4",
       "version_major": 2,
       "version_minor": 0
      },
      "text/plain": [
       "HBox(children=(IntProgress(value=0, max=391), HTML(value='')))"
      ]
     },
     "metadata": {},
     "output_type": "display_data"
    },
    {
     "name": "stdout",
     "output_type": "stream",
     "text": [
      "Precision: 74.23, Recall: 69.72, F1-Score: 71.91\n",
      "Precision: 71.36, Recall: 75.36, F1-Score: 73.31\n",
      "Precision: 73.96, Recall: 70.20, F1-Score: 72.03\n",
      "Precision: 73.66, Recall: 71.92, F1-Score: 72.78\n",
      "Precision: 74.99, Recall: 69.56, F1-Score: 72.17\n",
      "Precision: 74.50, Recall: 69.20, F1-Score: 71.75\n",
      "Precision: 74.33, Recall: 69.48, F1-Score: 71.82\n",
      "Precision: 73.42, Recall: 71.60, F1-Score: 72.50\n",
      "Precision: 73.38, Recall: 72.12, F1-Score: 72.75\n",
      "Precision: 74.18, Recall: 70.80, F1-Score: 72.45\n",
      "Precision: 75.11, Recall: 68.08, F1-Score: 71.42\n",
      "Precision: 73.00, Recall: 73.12, F1-Score: 73.06\n",
      "Precision: 75.41, Recall: 66.60, F1-Score: 70.73\n",
      "Precision: 71.71, Recall: 73.80, F1-Score: 72.74\n",
      "Precision: 73.08, Recall: 70.04, F1-Score: 71.53\n",
      "Precision: 75.77, Recall: 63.56, F1-Score: 69.13\n",
      "Precision: 71.30, Recall: 74.84, F1-Score: 73.03\n",
      "Precision: 73.09, Recall: 70.72, F1-Score: 71.88\n",
      "Precision: 71.64, Recall: 73.24, F1-Score: 72.43\n",
      "Precision: 72.89, Recall: 70.88, F1-Score: 71.87\n",
      "Precision: 72.36, Recall: 72.36, F1-Score: 72.36\n",
      "Precision: 74.76, Recall: 68.00, F1-Score: 71.22\n",
      "Precision: 73.14, Recall: 71.68, F1-Score: 72.40\n",
      "Precision: 74.31, Recall: 69.76, F1-Score: 71.96\n",
      "Precision: 73.99, Recall: 68.96, F1-Score: 71.39\n",
      "Precision: 75.27, Recall: 66.24, F1-Score: 70.47\n",
      "Precision: 72.72, Recall: 71.88, F1-Score: 72.30\n",
      "Precision: 74.73, Recall: 67.44, F1-Score: 70.90\n",
      "Precision: 72.38, Recall: 72.64, F1-Score: 72.51\n",
      "Precision: 73.30, Recall: 69.96, F1-Score: 71.59\n",
      "Precision: 72.42, Recall: 72.36, F1-Score: 72.39\n",
      "Precision: 72.30, Recall: 72.36, F1-Score: 72.33\n",
      "Precision: 73.31, Recall: 69.56, F1-Score: 71.39\n",
      "Precision: 74.30, Recall: 68.68, F1-Score: 71.38\n",
      "Precision: 73.25, Recall: 71.40, F1-Score: 72.31\n",
      "Precision: 70.87, Recall: 76.28, F1-Score: 73.47\n",
      "Precision: 72.87, Recall: 72.72, F1-Score: 72.79\n",
      "Precision: 76.22, Recall: 65.40, F1-Score: 70.40\n",
      "Precision: 69.88, Recall: 78.04, F1-Score: 73.73\n",
      "\n"
     ]
    },
    {
     "data": {
      "application/vnd.jupyter.widget-view+json": {
       "model_id": "c12c8e87f8824059b596f63956ba2dac",
       "version_major": 2,
       "version_minor": 0
      },
      "text/plain": [
       "HBox(children=(IntProgress(value=0, max=391), HTML(value='')))"
      ]
     },
     "metadata": {},
     "output_type": "display_data"
    },
    {
     "name": "stdout",
     "output_type": "stream",
     "text": [
      "Precision: 75.56, Recall: 66.04, F1-Score: 70.48\n",
      "Precision: 72.47, Recall: 73.92, F1-Score: 73.19\n",
      "Precision: 74.49, Recall: 69.72, F1-Score: 72.02\n",
      "Precision: 72.99, Recall: 71.88, F1-Score: 72.43\n",
      "Precision: 74.42, Recall: 67.96, F1-Score: 71.04\n",
      "Precision: 72.65, Recall: 71.08, F1-Score: 71.86\n",
      "Precision: 74.75, Recall: 67.84, F1-Score: 71.13\n",
      "Precision: 72.51, Recall: 72.68, F1-Score: 72.59\n",
      "Precision: 73.52, Recall: 70.96, F1-Score: 72.22\n",
      "Precision: 73.35, Recall: 71.12, F1-Score: 72.22\n",
      "Precision: 74.35, Recall: 67.84, F1-Score: 70.95\n",
      "Precision: 73.77, Recall: 70.08, F1-Score: 71.88\n",
      "Precision: 74.38, Recall: 67.48, F1-Score: 70.76\n",
      "Precision: 72.64, Recall: 72.52, F1-Score: 72.58\n",
      "Precision: 73.28, Recall: 70.52, F1-Score: 71.87\n",
      "Precision: 74.41, Recall: 69.44, F1-Score: 71.84\n",
      "Precision: 73.46, Recall: 70.52, F1-Score: 71.96\n",
      "Precision: 72.20, Recall: 71.68, F1-Score: 71.94\n",
      "Precision: 75.49, Recall: 62.96, F1-Score: 68.66\n",
      "Precision: 69.33, Recall: 77.48, F1-Score: 73.18\n",
      "Precision: 75.44, Recall: 65.48, F1-Score: 70.11\n",
      "Precision: 71.62, Recall: 73.48, F1-Score: 72.54\n",
      "Precision: 73.84, Recall: 69.68, F1-Score: 71.70\n",
      "Precision: 72.04, Recall: 73.08, F1-Score: 72.56\n",
      "Precision: 73.32, Recall: 69.68, F1-Score: 71.45\n",
      "Precision: 74.04, Recall: 68.32, F1-Score: 71.06\n",
      "Precision: 72.17, Recall: 71.56, F1-Score: 71.86\n",
      "Precision: 72.02, Recall: 73.32, F1-Score: 72.67\n",
      "Precision: 75.55, Recall: 66.36, F1-Score: 70.66\n",
      "Precision: 73.33, Recall: 72.04, F1-Score: 72.68\n",
      "Precision: 72.88, Recall: 72.68, F1-Score: 72.78\n",
      "Precision: 73.16, Recall: 70.12, F1-Score: 71.61\n",
      "Precision: 73.75, Recall: 69.80, F1-Score: 71.72\n",
      "Precision: 74.98, Recall: 67.60, F1-Score: 71.10\n",
      "Precision: 72.81, Recall: 72.96, F1-Score: 72.89\n",
      "Precision: 74.02, Recall: 69.76, F1-Score: 71.83\n",
      "Precision: 73.86, Recall: 70.96, F1-Score: 72.38\n",
      "Precision: 72.80, Recall: 73.44, F1-Score: 73.12\n",
      "Precision: 73.22, Recall: 72.40, F1-Score: 72.81\n",
      "\n"
     ]
    },
    {
     "data": {
      "application/vnd.jupyter.widget-view+json": {
       "model_id": "5fabeca35d0e4f31a30bcdcdf89571a2",
       "version_major": 2,
       "version_minor": 0
      },
      "text/plain": [
       "HBox(children=(IntProgress(value=0, max=391), HTML(value='')))"
      ]
     },
     "metadata": {},
     "output_type": "display_data"
    },
    {
     "name": "stdout",
     "output_type": "stream",
     "text": [
      "Precision: 76.12, Recall: 66.04, F1-Score: 70.72\n",
      "Precision: 71.99, Recall: 73.72, F1-Score: 72.85\n",
      "Precision: 73.82, Recall: 68.48, F1-Score: 71.05\n",
      "Precision: 71.37, Recall: 73.60, F1-Score: 72.47\n",
      "Precision: 74.37, Recall: 66.40, F1-Score: 70.16\n",
      "Precision: 71.42, Recall: 73.28, F1-Score: 72.34\n",
      "Precision: 74.21, Recall: 67.32, F1-Score: 70.60\n",
      "Precision: 74.01, Recall: 68.36, F1-Score: 71.08\n",
      "Precision: 72.56, Recall: 70.64, F1-Score: 71.58\n",
      "Precision: 73.96, Recall: 67.84, F1-Score: 70.77\n",
      "Precision: 72.95, Recall: 70.44, F1-Score: 71.67\n",
      "Precision: 73.86, Recall: 68.04, F1-Score: 70.83\n",
      "Precision: 71.42, Recall: 73.56, F1-Score: 72.47\n",
      "Precision: 72.75, Recall: 69.72, F1-Score: 71.20\n",
      "Precision: 71.82, Recall: 71.76, F1-Score: 71.79\n",
      "Precision: 73.19, Recall: 68.92, F1-Score: 70.99\n",
      "Precision: 72.79, Recall: 70.72, F1-Score: 71.74\n",
      "Precision: 72.94, Recall: 70.52, F1-Score: 71.71\n",
      "Precision: 74.25, Recall: 68.64, F1-Score: 71.34\n",
      "Precision: 71.68, Recall: 73.52, F1-Score: 72.59\n",
      "Precision: 73.42, Recall: 68.72, F1-Score: 70.99\n",
      "Precision: 71.67, Recall: 72.36, F1-Score: 72.01\n",
      "Precision: 73.83, Recall: 68.84, F1-Score: 71.25\n",
      "Precision: 73.91, Recall: 69.24, F1-Score: 71.50\n",
      "Precision: 73.76, Recall: 69.04, F1-Score: 71.32\n",
      "Precision: 73.50, Recall: 70.68, F1-Score: 72.06\n",
      "Precision: 73.99, Recall: 68.60, F1-Score: 71.19\n",
      "Precision: 73.07, Recall: 69.36, F1-Score: 71.17\n",
      "Precision: 73.04, Recall: 70.12, F1-Score: 71.55\n",
      "Precision: 74.25, Recall: 69.20, F1-Score: 71.64\n",
      "Precision: 74.46, Recall: 68.32, F1-Score: 71.26\n",
      "Precision: 75.71, Recall: 65.44, F1-Score: 70.20\n",
      "Precision: 70.82, Recall: 73.68, F1-Score: 72.22\n",
      "Precision: 73.72, Recall: 69.24, F1-Score: 71.41\n",
      "Precision: 72.64, Recall: 72.52, F1-Score: 72.58\n",
      "Precision: 73.56, Recall: 71.68, F1-Score: 72.61\n",
      "Precision: 74.45, Recall: 68.52, F1-Score: 71.36\n",
      "Precision: 71.41, Recall: 73.72, F1-Score: 72.54\n",
      "Precision: 75.00, Recall: 66.72, F1-Score: 70.62\n",
      "\n"
     ]
    }
   ],
   "source": [
    "for _e in range(10):\n",
    "    # Mix things up a bit.\n",
    "    random.shuffle(train_data)\n",
    "    pbar = tqdm_notebook(range(0, train_n, BATCH_SIZE))\n",
    "    batch_loss = 0\n",
    "    bxi = 0\n",
    "    for m in pbar:\n",
    "        n = m + BATCH_SIZE\n",
    "        if n <= train_n:\n",
    "            # print(\"Epoch Complete... \\n\")\n",
    "\n",
    "            input_batch = np.zeros((BATCH_SIZE, MAX_SEQ_LEN), dtype=np.int32)\n",
    "            input_lens_batch = np.zeros((BATCH_SIZE,), dtype=np.int32)\n",
    "            true_class_batch = np.zeros((BATCH_SIZE))\n",
    "            for i in range(m, n):\n",
    "                b,a = en_lang.encodeSentence2(train_data[i][0], MAX_SEQ_LEN)\n",
    "                input_batch[i-m,:] = a\n",
    "                input_lens_batch[i-m] = b\n",
    "                true_class_batch[i-m] = train_data[i][1]\n",
    "\n",
    "            feed_dict={\n",
    "                input_ids: input_batch,\n",
    "                input_lens: input_lens_batch,\n",
    "                y_placeholder: true_class_batch,\n",
    "                keep_prob: 0.6\n",
    "            }\n",
    "            sess.run(train_op, feed_dict=feed_dict)\n",
    "            batch_loss += sess.run(cost, feed_dict=feed_dict)\n",
    "            pbar.set_description(f\"Epoch: {_e} >> Loss: {batch_loss/(bxi+1):2.2F}:\")\n",
    "            bxi += 1\n",
    "            if (1 + n//BATCH_SIZE) % 10 == 0:\n",
    "                small_test()"
   ]
  },
  {
   "cell_type": "code",
   "execution_count": null,
   "metadata": {},
   "outputs": [],
   "source": []
  }
 ],
 "metadata": {
  "kernelspec": {
   "display_name": "Python (tf_gpu)",
   "language": "python",
   "name": "tf_gpu"
  },
  "language_info": {
   "codemirror_mode": {
    "name": "ipython",
    "version": 3
   },
   "file_extension": ".py",
   "mimetype": "text/x-python",
   "name": "python",
   "nbconvert_exporter": "python",
   "pygments_lexer": "ipython3",
   "version": "3.6.7"
  },
  "toc": {
   "base_numbering": 1,
   "nav_menu": {},
   "number_sections": true,
   "sideBar": true,
   "skip_h1_title": false,
   "title_cell": "Table of Contents",
   "title_sidebar": "Contents",
   "toc_cell": false,
   "toc_position": {
    "height": "calc(100% - 180px)",
    "left": "10px",
    "top": "150px",
    "width": "320px"
   },
   "toc_section_display": true,
   "toc_window_display": true
  }
 },
 "nbformat": 4,
 "nbformat_minor": 2
}
