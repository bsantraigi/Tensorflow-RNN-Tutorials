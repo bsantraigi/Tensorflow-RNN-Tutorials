{
 "cells": [
  {
   "cell_type": "markdown",
   "metadata": {},
   "source": [
    "### English to Hindi Transliteration Tutorial"
   ]
  },
  {
   "cell_type": "markdown",
   "metadata": {},
   "source": [
    "### Setup\n",
    "- On Google Colab make sure you select Python 3/GPU runtime before running the code"
   ]
  },
  {
   "cell_type": "markdown",
   "metadata": {},
   "source": [
    "#### GPU"
   ]
  },
  {
   "cell_type": "code",
   "execution_count": 2,
   "metadata": {
    "scrolled": true
   },
   "outputs": [
    {
     "name": "stdout",
     "output_type": "stream",
     "text": [
      "env: CUDA_VISIBLE_DEVICES=0\n"
     ]
    }
   ],
   "source": [
    "%env CUDA_VISIBLE_DEVICES=0"
   ]
  },
  {
   "cell_type": "markdown",
   "metadata": {},
   "source": [
    "#### Download Data"
   ]
  },
  {
   "cell_type": "code",
   "execution_count": 3,
   "metadata": {},
   "outputs": [
    {
     "name": "stdout",
     "output_type": "stream",
     "text": [
      "mkdir: cannot create directory ‘data’: File exists\n",
      "--2019-08-10 19:42:28--  https://raw.githubusercontent.com/bsantraigi/tensorflow-seq2seq-hindi/master/data/Hindi%20-%20Word%20Transliteration%20Pairs%201.txt\n",
      "Connecting to 172.16.2.30:8080... connected.\n",
      "Proxy request sent, awaiting response... 200 OK\n",
      "Length: 773211 (755K) [text/plain]\n",
      "Last-modified header missing -- time-stamps turned off.\n",
      "--2019-08-10 19:42:29--  https://raw.githubusercontent.com/bsantraigi/tensorflow-seq2seq-hindi/master/data/Hindi%20-%20Word%20Transliteration%20Pairs%201.txt\n",
      "Connecting to 172.16.2.30:8080... connected.\n",
      "Proxy request sent, awaiting response... 200 OK\n",
      "Length: 773211 (755K) [text/plain]\n",
      "Saving to: ‘data/Hindi - Word Transliteration Pairs 1.txt’\n",
      "\n",
      "100%[======================================>] 7,73,211     793KB/s   in 1.0s   \n",
      "\n",
      "2019-08-10 19:42:31 (793 KB/s) - ‘data/Hindi - Word Transliteration Pairs 1.txt’ saved [773211/773211]\n",
      "\n"
     ]
    }
   ],
   "source": [
    "!mkdir data\n",
    "!wget -N \"https://raw.githubusercontent.com/bsantraigi/tensorflow-seq2seq-hindi/master/data/Hindi%20-%20Word%20Transliteration%20Pairs%201.txt\" -P data/"
   ]
  },
  {
   "cell_type": "markdown",
   "metadata": {},
   "source": [
    "#### Import Stuff"
   ]
  },
  {
   "cell_type": "code",
   "execution_count": 4,
   "metadata": {},
   "outputs": [],
   "source": [
    "import nltk\n",
    "from collections import Counter\n",
    "from tqdm import tqdm_notebook\n",
    "import numpy as np\n",
    "import tensorflow as tf\n",
    "from tensorflow.contrib import seq2seq\n",
    "from tensorflow.contrib.rnn import DropoutWrapper\n",
    "import random"
   ]
  },
  {
   "cell_type": "code",
   "execution_count": 5,
   "metadata": {},
   "outputs": [
    {
     "name": "stdout",
     "output_type": "stream",
     "text": [
      "[nltk_data] Downloading package punkt to /home/bishal/nltk_data...\n",
      "[nltk_data]   Package punkt is already up-to-date!\n"
     ]
    },
    {
     "data": {
      "text/plain": [
       "True"
      ]
     },
     "execution_count": 5,
     "metadata": {},
     "output_type": "execute_result"
    }
   ],
   "source": [
    "nltk.download('punkt')"
   ]
  },
  {
   "cell_type": "markdown",
   "metadata": {},
   "source": [
    "#### Global Parameters"
   ]
  },
  {
   "cell_type": "code",
   "execution_count": 6,
   "metadata": {},
   "outputs": [],
   "source": [
    "MAX_SEQ_LEN = 20\n",
    "BATCH_SIZE = 64"
   ]
  },
  {
   "cell_type": "markdown",
   "metadata": {},
   "source": [
    "### Language Vocabulary \n",
    "* (Vocab of characters, i.e. an Alphabet)"
   ]
  },
  {
   "cell_type": "code",
   "execution_count": 7,
   "metadata": {},
   "outputs": [],
   "source": [
    "class Lang:\n",
    "    def __init__(self, counter, vocab_size):\n",
    "        self.word2id = {}\n",
    "        self.id2word = {}\n",
    "        self.pad = \"<PAD>\"\n",
    "        self.sos = \"<SOS>\"\n",
    "        self.eos = \"<EOS>\"\n",
    "        self.unk = \"<UNK>\"\n",
    "        \n",
    "        self.ipad = 0\n",
    "        self.isos = 1\n",
    "        self.ieos = 2\n",
    "        self.iunk = 3\n",
    "        \n",
    "        self.word2id[self.pad] = 0\n",
    "        self.word2id[self.sos] = 1\n",
    "        self.word2id[self.eos] = 2\n",
    "        self.word2id[self.unk] = 3\n",
    "        \n",
    "        self.id2word[0] = self.pad\n",
    "        self.id2word[1] = self.sos\n",
    "        self.id2word[2] = self.eos\n",
    "        self.id2word[3] = self.unk\n",
    "        \n",
    "        curr_id = 4\n",
    "        for w, c in counter.most_common(vocab_size):\n",
    "            self.word2id[w] = curr_id\n",
    "            self.id2word[curr_id] = w\n",
    "            curr_id += 1\n",
    "            \n",
    "    def encodeSentence(self, s, max_len=-1):\n",
    "        wseq = s.lower().strip()\n",
    "        if max_len == -1:\n",
    "            return [self.word2id[w] if w in self.word2id else self.iunk for w in wseq]\n",
    "        else:\n",
    "            return ([self.word2id[w] if w in self.word2id else self.iunk for w in wseq] + [self.ieos] + [self.ipad]*max_len)[:max_len]\n",
    "        \n",
    "    def encodeSentence2(self, s, max_len=-1):\n",
    "        wseq = wseq = s.lower().strip()\n",
    "        return min(max_len, len(wseq)+1), \\\n",
    "            ([self.word2id[w] if w in self.word2id else self.iunk for w in wseq] + \\\n",
    "                [self.ieos] + [self.ipad]*max_len)[:max_len]\n",
    "    \n",
    "    def decodeSentence(self, id_seq):\n",
    "        id_seq = np.array(id_seq + [self.ieos])\n",
    "        j = np.argmax(id_seq==self.ieos)\n",
    "        s = ''.join([self.id2word[x] for x in id_seq[:j]])\n",
    "        s = s.replace(self.unk, \"UNK\")\n",
    "        return s"
   ]
  },
  {
   "cell_type": "code",
   "execution_count": 8,
   "metadata": {},
   "outputs": [],
   "source": [
    "# Total number of samples to read\n",
    "N = 30823"
   ]
  },
  {
   "cell_type": "markdown",
   "metadata": {},
   "source": [
    "### Reading the data files\n",
    "- Each line contains a hindi word in both English and Devnagari script"
   ]
  },
  {
   "cell_type": "code",
   "execution_count": 9,
   "metadata": {},
   "outputs": [
    {
     "data": {
      "application/vnd.jupyter.widget-view+json": {
       "model_id": "f51315e8227e4fb1b840b3c791d18390",
       "version_major": 2,
       "version_minor": 0
      },
      "text/plain": [
       "HBox(children=(IntProgress(value=0, description='Reading file:', max=30823, style=ProgressStyle(description_wi…"
      ]
     },
     "metadata": {},
     "output_type": "display_data"
    },
    {
     "name": "stdout",
     "output_type": "stream",
     "text": [
      "\n"
     ]
    },
    {
     "data": {
      "application/vnd.jupyter.widget-view+json": {
       "model_id": "bde3b1a2284f4feab07415a57ffc020a",
       "version_major": 2,
       "version_minor": 0
      },
      "text/plain": [
       "HBox(children=(IntProgress(value=0, description='Processing inputs:', max=30823, style=ProgressStyle(descripti…"
      ]
     },
     "metadata": {},
     "output_type": "display_data"
    },
    {
     "name": "stdout",
     "output_type": "stream",
     "text": [
      "\n"
     ]
    },
    {
     "data": {
      "application/vnd.jupyter.widget-view+json": {
       "model_id": "93e99cb082df4631b791008ec195766f",
       "version_major": 2,
       "version_minor": 0
      },
      "text/plain": [
       "HBox(children=(IntProgress(value=0, description='Processing inputs:', max=30823, style=ProgressStyle(descripti…"
      ]
     },
     "metadata": {},
     "output_type": "display_data"
    },
    {
     "name": "stdout",
     "output_type": "stream",
     "text": [
      "\n"
     ]
    }
   ],
   "source": [
    "hi_counter = Counter()\n",
    "hi_sentences=[]\n",
    "en_counter = Counter()\n",
    "en_sentences=[]\n",
    "with open(\"data/Hindi - Word Transliteration Pairs 1.txt\") as f:\n",
    "    for line in tqdm_notebook(f, total=N, desc=\"Reading file:\"):\n",
    "        en, hi = line.strip().split(\"\\t\")\n",
    "        hi_sentences.append(hi)\n",
    "        en_sentences.append(en)\n",
    "    for line in tqdm_notebook(hi_sentences, desc=\"Processing inputs:\"):\n",
    "        for w in line.strip():\n",
    "            hi_counter[w] += 1\n",
    "    for line in tqdm_notebook(en_sentences, desc=\"Processing inputs:\"):\n",
    "        for w in line.strip():\n",
    "            en_counter[w] += 1"
   ]
  },
  {
   "cell_type": "code",
   "execution_count": 10,
   "metadata": {
    "scrolled": true
   },
   "outputs": [
    {
     "name": "stdout",
     "output_type": "stream",
     "text": [
      "Most common hi characters in dataset:\n",
      " [('ा', 21123), ('र', 9205), ('े', 8100), ('न', 7225), ('ी', 6546)]\n",
      "\n",
      "Total (hi)characters gathered from dataset: 66\n",
      "\n",
      "Most common en characters in dataset:\n",
      " [('a', 57220), ('n', 15015), ('i', 14015), ('h', 13805), ('e', 12264)]\n",
      "\n",
      "Total (en)characters gathered from dataset: 27\n"
     ]
    }
   ],
   "source": [
    "# A few sample hindi characters\n",
    "print(\"Most common hi characters in dataset:\\n\", hi_counter.most_common(5))\n",
    "\n",
    "print(\"\\nTotal (hi)characters gathered from dataset:\",len(hi_counter))\n",
    "\n",
    "# A few sample english characters\n",
    "print(\"\\nMost common en characters in dataset:\\n\", en_counter.most_common(5))\n",
    "\n",
    "print(\"\\nTotal (en)characters gathered from dataset:\", len(en_counter))"
   ]
  },
  {
   "cell_type": "code",
   "execution_count": 11,
   "metadata": {},
   "outputs": [],
   "source": [
    "en_lang = Lang(en_counter, len(en_counter))\n",
    "hi_lang = Lang(hi_counter, len(hi_counter))"
   ]
  },
  {
   "cell_type": "code",
   "execution_count": 12,
   "metadata": {
    "scrolled": true
   },
   "outputs": [
    {
     "name": "stdout",
     "output_type": "stream",
     "text": [
      "Test en encoding: [15, 7, 10, 13, 9, 6, 20, 4]\n",
      "Test en decoding: shukriya\n",
      "Test hindi encoding: [35, 19, 15, 22, 5, 12, 21, 4, 2, 0]\n",
      "Test hindi decoding: शुक्रिया\n"
     ]
    }
   ],
   "source": [
    "print(\"Test en encoding:\", en_lang.encodeSentence(\"Shukriya\"))\n",
    "\n",
    "print(\"Test en decoding:\", en_lang.decodeSentence(en_lang.encodeSentence(\"Shukriya\", 10)))\n",
    "\n",
    "print(\"Test hindi encoding:\", hi_lang.encodeSentence(\"शुक्रिया\", 10))\n",
    "\n",
    "print(\"Test hindi decoding:\", hi_lang.decodeSentence((hi_lang.encodeSentence(\"शुक्रिया\", 10))))"
   ]
  },
  {
   "cell_type": "code",
   "execution_count": 13,
   "metadata": {},
   "outputs": [],
   "source": [
    "VE = len(en_lang.word2id)\n",
    "VH = len(hi_lang.word2id)"
   ]
  },
  {
   "cell_type": "markdown",
   "metadata": {},
   "source": [
    "### The Seq2Seq architecture\n",
    "- We will implement a seq2seq architecture for transliteration in Tensorflow r1.13.1 / r1.14\n",
    "- Debugging Tip: Always keep track of tensor dimensions!\n",
    "- **Tensorflow Computation Graph** - We will build a tf computation graph first. This is the representation used by tf for any neural network architecture. Once the computation graph is built, you can feed data to it for training or inference"
   ]
  },
  {
   "cell_type": "markdown",
   "metadata": {},
   "source": [
    "#### Character Embedding Matrix"
   ]
  },
  {
   "cell_type": "code",
   "execution_count": 14,
   "metadata": {},
   "outputs": [
    {
     "name": "stdout",
     "output_type": "stream",
     "text": [
      "WARNING:tensorflow:From /home/bishal/miniconda3/envs/tf_gpu/lib/python3.6/site-packages/tensorflow/python/framework/op_def_library.py:263: colocate_with (from tensorflow.python.framework.ops) is deprecated and will be removed in a future version.\n",
      "Instructions for updating:\n",
      "Colocations handled automatically by placer.\n"
     ]
    }
   ],
   "source": [
    "en_word_emb_matrix = tf.get_variable(\"en_word_emb_matrix\", (VE, 300), dtype=tf.float32)\n",
    "hi_word_emb_matrix = tf.get_variable(\"hi_word_emb_matrix\", (VH, 300), dtype=tf.float32)"
   ]
  },
  {
   "cell_type": "markdown",
   "metadata": {},
   "source": [
    "#### Placeholders\n",
    "- Input to a tensorflow graph is "
   ]
  },
  {
   "cell_type": "code",
   "execution_count": 15,
   "metadata": {},
   "outputs": [],
   "source": [
    "keep_prob = tf.placeholder(tf.float32)\n",
    "\n",
    "input_ids = tf.placeholder(tf.int32, (None, MAX_SEQ_LEN))\n",
    "input_lens = tf.placeholder(tf.int32, (None, ))\n",
    "\n",
    "ph_target_ids = tf.placeholder(tf.int32, (None, MAX_SEQ_LEN))\n",
    "target_lens = tf.placeholder(tf.int32, (None, ))"
   ]
  },
  {
   "cell_type": "code",
   "execution_count": 16,
   "metadata": {},
   "outputs": [],
   "source": [
    "# Add SOS or GO symbol\n",
    "target_ids = tf.concat([tf.fill([BATCH_SIZE,1], hi_lang.isos), ph_target_ids], -1)"
   ]
  },
  {
   "cell_type": "markdown",
   "metadata": {},
   "source": [
    "#### Building the computation graph"
   ]
  },
  {
   "cell_type": "code",
   "execution_count": 17,
   "metadata": {},
   "outputs": [],
   "source": [
    "input_emb = tf.nn.embedding_lookup(en_word_emb_matrix, input_ids)\n",
    "target_emb = tf.nn.embedding_lookup(hi_word_emb_matrix, target_ids[:, :-1])"
   ]
  },
  {
   "cell_type": "code",
   "execution_count": 18,
   "metadata": {},
   "outputs": [
    {
     "data": {
      "text/plain": [
       "TensorShape([Dimension(None), Dimension(20), Dimension(300)])"
      ]
     },
     "execution_count": 18,
     "metadata": {},
     "output_type": "execute_result"
    }
   ],
   "source": [
    "input_emb.shape"
   ]
  },
  {
   "cell_type": "markdown",
   "metadata": {},
   "source": [
    "#### Encoder - RNN based sequence encoder"
   ]
  },
  {
   "cell_type": "code",
   "execution_count": 19,
   "metadata": {},
   "outputs": [
    {
     "name": "stdout",
     "output_type": "stream",
     "text": [
      "WARNING:tensorflow:From <ipython-input-19-73573fbda69f>:1: GRUCell.__init__ (from tensorflow.python.ops.rnn_cell_impl) is deprecated and will be removed in a future version.\n",
      "Instructions for updating:\n",
      "This class is equivalent as tf.keras.layers.GRUCell, and will be replaced by that in Tensorflow 2.0.\n"
     ]
    }
   ],
   "source": [
    "encoder_cell = tf.nn.rnn_cell.GRUCell(128) # 128 is the dimension of hidden state\n",
    "encoder_cell = DropoutWrapper(encoder_cell, output_keep_prob=keep_prob) # Adding Dropout for regularization"
   ]
  },
  {
   "cell_type": "code",
   "execution_count": 20,
   "metadata": {},
   "outputs": [
    {
     "name": "stdout",
     "output_type": "stream",
     "text": [
      "WARNING:tensorflow:From <ipython-input-20-1e698e82f454>:5: dynamic_rnn (from tensorflow.python.ops.rnn) is deprecated and will be removed in a future version.\n",
      "Instructions for updating:\n",
      "Please use `keras.layers.RNN(cell)`, which is equivalent to this API\n",
      "WARNING:tensorflow:From /home/bishal/miniconda3/envs/tf_gpu/lib/python3.6/site-packages/tensorflow/python/ops/rnn.py:626: to_int32 (from tensorflow.python.ops.math_ops) is deprecated and will be removed in a future version.\n",
      "Instructions for updating:\n",
      "Use tf.cast instead.\n",
      "WARNING:tensorflow:From /home/bishal/miniconda3/envs/tf_gpu/lib/python3.6/site-packages/tensorflow/python/ops/rnn_cell_impl.py:1259: calling dropout (from tensorflow.python.ops.nn_ops) with keep_prob is deprecated and will be removed in a future version.\n",
      "Instructions for updating:\n",
      "Please use `rate` instead of `keep_prob`. Rate should be set to `rate = 1 - keep_prob`.\n"
     ]
    }
   ],
   "source": [
    "enc_outputs, enc_state = tf.nn.dynamic_rnn(\n",
    "    encoder_cell, # The encoder GRU cell\n",
    "    input_emb, # Embedded input sequence\n",
    "    sequence_length=input_lens, # Sequence lengths of individual inputs in a batch\n",
    "    initial_state=encoder_cell.zero_state(BATCH_SIZE, dtype=tf.float32)\n",
    ")"
   ]
  },
  {
   "cell_type": "code",
   "execution_count": 21,
   "metadata": {},
   "outputs": [
    {
     "data": {
      "text/plain": [
       "TensorShape([Dimension(64), Dimension(128)])"
      ]
     },
     "execution_count": 21,
     "metadata": {},
     "output_type": "execute_result"
    }
   ],
   "source": [
    "# Confirm the shape of the final hidden state\n",
    "enc_state.shape"
   ]
  },
  {
   "cell_type": "markdown",
   "metadata": {},
   "source": [
    "#### Decoder"
   ]
  },
  {
   "cell_type": "code",
   "execution_count": 23,
   "metadata": {},
   "outputs": [],
   "source": [
    "decoder_cell = tf.nn.rnn_cell.GRUCell(128)\n",
    "decoder_cell = DropoutWrapper(decoder_cell, output_keep_prob=keep_prob)"
   ]
  },
  {
   "cell_type": "markdown",
   "metadata": {},
   "source": [
    "#### Decoder to Output Vocab Projection Layer"
   ]
  },
  {
   "cell_type": "code",
   "execution_count": 24,
   "metadata": {},
   "outputs": [],
   "source": [
    "output_projection = tf.layers.Dense(len(hi_lang.word2id))"
   ]
  },
  {
   "cell_type": "markdown",
   "metadata": {},
   "source": [
    "#### Decoder Training Helper"
   ]
  },
  {
   "cell_type": "code",
   "execution_count": 25,
   "metadata": {},
   "outputs": [],
   "source": [
    "helper = seq2seq.TrainingHelper(target_emb, target_lens)\n",
    "decoder = seq2seq.BasicDecoder(decoder_cell, helper, enc_state, output_projection)\n",
    "outputs, _, outputs_lens = seq2seq.dynamic_decode(decoder, maximum_iterations=MAX_SEQ_LEN, \n",
    "                                                  impute_finished=False, swap_memory=True)\n",
    "output_max_len = tf.reduce_max(outputs_lens)"
   ]
  },
  {
   "cell_type": "markdown",
   "metadata": {},
   "source": [
    "#### And Decoder Inference Helper"
   ]
  },
  {
   "cell_type": "code",
   "execution_count": 26,
   "metadata": {},
   "outputs": [],
   "source": [
    "# Using the decoder_cell without dropout here.\n",
    "infer_helper = seq2seq.GreedyEmbeddingHelper(hi_word_emb_matrix, tf.fill([BATCH_SIZE, ], hi_lang.isos), hi_lang.ieos)\n",
    "infer_decoder = seq2seq.BasicDecoder(decoder_cell, infer_helper, enc_state, output_projection)\n",
    "infer_output = seq2seq.dynamic_decode(infer_decoder, maximum_iterations=MAX_SEQ_LEN, swap_memory=True)"
   ]
  },
  {
   "cell_type": "markdown",
   "metadata": {},
   "source": [
    "#### Loss and Optimizers"
   ]
  },
  {
   "cell_type": "code",
   "execution_count": 27,
   "metadata": {},
   "outputs": [],
   "source": [
    "# Sequence mask:\n",
    "# To make sure we don't back-propagate error from output of length positions\n",
    "masks = tf.sequence_mask(target_lens, output_max_len, dtype=tf.float32, name='masks')\n",
    "\n",
    "# Loss function - weighted softmax cross entropy\n",
    "cost = seq2seq.sequence_loss(\n",
    "    outputs[0],\n",
    "    target_ids[:, 1:(output_max_len + 1)],\n",
    "    masks)\n",
    "\n",
    "# Optimizer\n",
    "optimizer = tf.train.AdamOptimizer(0.0001)"
   ]
  },
  {
   "cell_type": "code",
   "execution_count": 28,
   "metadata": {},
   "outputs": [],
   "source": [
    "train_op = optimizer.minimize(cost)"
   ]
  },
  {
   "cell_type": "code",
   "execution_count": 29,
   "metadata": {},
   "outputs": [],
   "source": [
    "init = tf.global_variables_initializer()"
   ]
  },
  {
   "cell_type": "markdown",
   "metadata": {},
   "source": [
    "#### Tensorflow Sessions"
   ]
  },
  {
   "cell_type": "code",
   "execution_count": 30,
   "metadata": {},
   "outputs": [],
   "source": [
    "sess_config = tf.ConfigProto()\n",
    "sess_config.gpu_options.allow_growth = True"
   ]
  },
  {
   "cell_type": "code",
   "execution_count": 31,
   "metadata": {},
   "outputs": [],
   "source": [
    "sess = tf.InteractiveSession(config=sess_config)\n",
    "sess.run(init)"
   ]
  },
  {
   "cell_type": "markdown",
   "metadata": {},
   "source": [
    "#### Minibatch Training + Validation\n",
    "- Performance Evaluation using BLEU scores"
   ]
  },
  {
   "cell_type": "code",
   "execution_count": 32,
   "metadata": {},
   "outputs": [],
   "source": [
    "random.seed(41)"
   ]
  },
  {
   "cell_type": "code",
   "execution_count": 33,
   "metadata": {},
   "outputs": [],
   "source": [
    "parallel = list(zip(en_sentences, hi_sentences))"
   ]
  },
  {
   "cell_type": "code",
   "execution_count": 34,
   "metadata": {},
   "outputs": [],
   "source": [
    "random.shuffle(parallel)"
   ]
  },
  {
   "cell_type": "code",
   "execution_count": 35,
   "metadata": {},
   "outputs": [
    {
     "data": {
      "text/plain": [
       "('hazaarii', 'हज़ारी')"
      ]
     },
     "execution_count": 35,
     "metadata": {},
     "output_type": "execute_result"
    }
   ],
   "source": [
    "parallel[1000]"
   ]
  },
  {
   "cell_type": "code",
   "execution_count": 36,
   "metadata": {},
   "outputs": [],
   "source": [
    "train_n = int(0.95*N)\n",
    "valid_n = N - train_n"
   ]
  },
  {
   "cell_type": "code",
   "execution_count": 37,
   "metadata": {},
   "outputs": [],
   "source": [
    "train_pairs = parallel[:train_n].copy()\n",
    "valid_pairs = parallel[train_n:]"
   ]
  },
  {
   "cell_type": "code",
   "execution_count": 38,
   "metadata": {},
   "outputs": [],
   "source": [
    "def small_test():\n",
    "    all_bleu = []\n",
    "    smoothing = nltk.translate.bleu_score.SmoothingFunction().method7\n",
    "    for m in range(0, valid_n, BATCH_SIZE):\n",
    "        # print(f\"Status: {m}/{N}\", end='\\r')\n",
    "        n = m + BATCH_SIZE\n",
    "        if n > valid_n:\n",
    "            # print(\"Epoch Complete...\")\n",
    "            break\n",
    "\n",
    "        input_batch = np.zeros((BATCH_SIZE, MAX_SEQ_LEN), dtype=np.int32)\n",
    "        input_lens_batch = np.zeros((BATCH_SIZE,), dtype=np.int32)\n",
    "        for i in range(m, n):\n",
    "            b,a = en_lang.encodeSentence2(valid_pairs[i][0], MAX_SEQ_LEN)\n",
    "            input_batch[i-m,:] = a\n",
    "            input_lens_batch[i-m] = b\n",
    "\n",
    "    #     target_batch = np.zeros((BATCH_SIZE, MAX_SEQ_LEN), dtype=np.int32)\n",
    "    #     target_lens_batch = np.zeros((BATCH_SIZE,), dtype=np.int32)\n",
    "    #     for i in range(m, n):\n",
    "    #         b,a = hi_lang.encodeSentence2(valid_pairs[i][1], MAX_SEQ_LEN)\n",
    "    #         target_batch[i-m,:] = a\n",
    "    #         target_lens_batch[i-m] = b\n",
    "\n",
    "        feed_dict={\n",
    "            input_ids: input_batch,\n",
    "            input_lens: input_lens_batch,\n",
    "            #target_ids: target_batch,\n",
    "            #target_lens: target_lens_batch,\n",
    "            keep_prob: 1.0\n",
    "        }\n",
    "        pred_batch = sess.run(infer_output[0].sample_id, feed_dict=feed_dict)\n",
    "        for k, pred_ in enumerate(pred_batch):\n",
    "            pred_s = hi_lang.decodeSentence(list(pred_))\n",
    "            ref = valid_pairs[m+k][1]\n",
    "            try:\n",
    "                _bx = nltk.translate.bleu_score.sentence_bleu(\n",
    "                    [ref],\n",
    "                    pred_s,\n",
    "                    weights=[1/4]*4,\n",
    "                    smoothing_function=smoothing)\n",
    "            except ZeroDivisionError:\n",
    "                _bx = 0\n",
    "            all_bleu.append(_bx)\n",
    "\n",
    "    print(f\"\\n\\nBLEU Score: {np.mean(all_bleu)}\\n\")"
   ]
  },
  {
   "cell_type": "code",
   "execution_count": 39,
   "metadata": {
    "scrolled": true
   },
   "outputs": [
    {
     "name": "stdout",
     "output_type": "stream",
     "text": [
      "Epoch: 0 >> Status: 6336/29281 >> Loss: 3.5062947273254395\n",
      "\n",
      "BLEU Score: 0.029901360008871503\n",
      "\n",
      "Epoch: 0 >> Status: 12736/29281 >> Loss: 3.1823196411132812\n",
      "\n",
      "BLEU Score: 0.07751817844441643\n",
      "\n",
      "Epoch: 0 >> Status: 19136/29281 >> Loss: 2.9157474040985107\n",
      "\n",
      "BLEU Score: 0.09985992977826874\n",
      "\n",
      "Epoch: 0 >> Status: 25536/29281 >> Loss: 2.7789411544799805\n",
      "\n",
      "BLEU Score: 0.09933714196500155\n",
      "\n",
      "Epoch: 0 >> Status: 29248/29281 >> Loss: 2.7930457592010555\n",
      "Epoch Complete...\n",
      "Epoch: 1 >> Status: 6336/29281 >> Loss: 2.7485635280609134\n",
      "\n",
      "BLEU Score: 0.17597957174813808\n",
      "\n",
      "Epoch: 1 >> Status: 12736/29281 >> Loss: 2.6061580181121826\n",
      "\n",
      "BLEU Score: 0.19867908983711735\n",
      "\n",
      "Epoch: 1 >> Status: 19136/29281 >> Loss: 2.4363019466400146\n",
      "\n",
      "BLEU Score: 0.22377641272294765\n",
      "\n",
      "Epoch: 1 >> Status: 25536/29281 >> Loss: 2.2718882560729984\n",
      "\n",
      "BLEU Score: 0.2377829636667604\n",
      "\n",
      "Epoch: 1 >> Status: 29248/29281 >> Loss: 2.3076264858245857\n",
      "Epoch Complete...\n",
      "Epoch: 2 >> Status: 6336/29281 >> Loss: 2.2798261642456055\n",
      "\n",
      "BLEU Score: 0.2594323559726662\n",
      "\n",
      "Epoch: 2 >> Status: 12736/29281 >> Loss: 2.1954982280731226\n",
      "\n",
      "BLEU Score: 0.2701686220947716\n",
      "\n",
      "Epoch: 2 >> Status: 19136/29281 >> Loss: 2.1034262180328372\n",
      "\n",
      "BLEU Score: 0.2701964750100469\n",
      "\n",
      "Epoch: 2 >> Status: 25536/29281 >> Loss: 1.9082508087158203\n",
      "\n",
      "BLEU Score: 0.2820674888819115\n",
      "\n",
      "Epoch: 2 >> Status: 29248/29281 >> Loss: 2.0105779170989998\n",
      "Epoch Complete...\n",
      "Epoch: 3 >> Status: 6336/29281 >> Loss: 1.9721008539199834\n",
      "\n",
      "BLEU Score: 0.2976981543892765\n",
      "\n",
      "Epoch: 3 >> Status: 12736/29281 >> Loss: 1.9475187063217163\n",
      "\n",
      "BLEU Score: 0.30281205492027435\n",
      "\n",
      "Epoch: 3 >> Status: 19136/29281 >> Loss: 1.8782167434692383\n",
      "\n",
      "BLEU Score: 0.3009595795384019\n",
      "\n",
      "Epoch: 3 >> Status: 25536/29281 >> Loss: 1.7042069435119635\n",
      "\n",
      "BLEU Score: 0.30664742222858643\n",
      "\n",
      "Epoch: 3 >> Status: 29248/29281 >> Loss: 1.8049037456512451\n",
      "Epoch Complete...\n",
      "Epoch: 4 >> Status: 6336/29281 >> Loss: 1.7874102592468262\n",
      "\n",
      "BLEU Score: 0.31784754573425206\n",
      "\n",
      "Epoch: 4 >> Status: 12736/29281 >> Loss: 1.7712121009826662\n",
      "\n",
      "BLEU Score: 0.322935195351771\n",
      "\n",
      "Epoch: 4 >> Status: 19136/29281 >> Loss: 1.7228951454162598\n",
      "\n",
      "BLEU Score: 0.3196945714223444\n",
      "\n",
      "Epoch: 4 >> Status: 25536/29281 >> Loss: 1.5171648263931274\n",
      "\n",
      "BLEU Score: 0.3278477407053596\n",
      "\n",
      "Epoch: 4 >> Status: 29248/29281 >> Loss: 1.6174398660659795\n",
      "Epoch Complete...\n",
      "Epoch: 5 >> Status: 6336/29281 >> Loss: 1.6075661182403564\n",
      "\n",
      "BLEU Score: 0.3352835476222711\n",
      "\n",
      "Epoch: 5 >> Status: 12736/29281 >> Loss: 1.5649033784866333\n",
      "\n",
      "BLEU Score: 0.3415102202527595\n",
      "\n",
      "Epoch: 5 >> Status: 19136/29281 >> Loss: 1.5125203132629395\n",
      "\n",
      "BLEU Score: 0.34062841227154816\n",
      "\n",
      "Epoch: 5 >> Status: 25536/29281 >> Loss: 1.3534221649169922\n",
      "\n",
      "BLEU Score: 0.34850094079004573\n",
      "\n",
      "Epoch: 5 >> Status: 29248/29281 >> Loss: 1.4533027410507202\n",
      "Epoch Complete...\n",
      "Epoch: 6 >> Status: 6336/29281 >> Loss: 1.4827520847320557\n",
      "\n",
      "BLEU Score: 0.3606887176675621\n",
      "\n",
      "Epoch: 6 >> Status: 12736/29281 >> Loss: 1.4263257980346683\n",
      "\n",
      "BLEU Score: 0.36451939465278654\n",
      "\n",
      "Epoch: 6 >> Status: 19136/29281 >> Loss: 1.3651758432388306\n",
      "\n",
      "BLEU Score: 0.363225041837713\n",
      "\n",
      "Epoch: 6 >> Status: 25536/29281 >> Loss: 1.2278027534484863\n",
      "\n",
      "BLEU Score: 0.3738887065855945\n",
      "\n",
      "Epoch: 6 >> Status: 29248/29281 >> Loss: 1.3299382925033578\n",
      "Epoch Complete...\n",
      "Epoch: 7 >> Status: 6336/29281 >> Loss: 1.3376704454421997\n",
      "\n",
      "BLEU Score: 0.38621964822101934\n",
      "\n",
      "Epoch: 7 >> Status: 12736/29281 >> Loss: 1.2707096338272095\n",
      "\n",
      "BLEU Score: 0.3918384018978127\n",
      "\n",
      "Epoch: 7 >> Status: 19136/29281 >> Loss: 1.2169176340103156\n",
      "\n",
      "BLEU Score: 0.3927222876006257\n",
      "\n",
      "Epoch: 7 >> Status: 25536/29281 >> Loss: 1.0965859889984135\n",
      "\n",
      "BLEU Score: 0.4012322981611908\n",
      "\n",
      "Epoch: 7 >> Status: 29248/29281 >> Loss: 1.1897233724594116\n",
      "Epoch Complete...\n",
      "Epoch: 8 >> Status: 6336/29281 >> Loss: 1.1939764022827148\n",
      "\n",
      "BLEU Score: 0.4118555758773898\n",
      "\n",
      "Epoch: 8 >> Status: 12736/29281 >> Loss: 1.1691412925720215\n",
      "\n",
      "BLEU Score: 0.42099509136034047\n",
      "\n",
      "Epoch: 8 >> Status: 19136/29281 >> Loss: 1.1268343925476074\n",
      "\n",
      "BLEU Score: 0.4201397307351398\n",
      "\n",
      "Epoch: 8 >> Status: 25536/29281 >> Loss: 1.0284427404403687\n",
      "\n",
      "BLEU Score: 0.42699792558190725\n",
      "\n",
      "Epoch: 8 >> Status: 29248/29281 >> Loss: 1.0882582664489746\n",
      "Epoch Complete...\n",
      "Epoch: 9 >> Status: 6336/29281 >> Loss: 1.1265676021575928\n",
      "\n",
      "BLEU Score: 0.4395806198134727\n",
      "\n",
      "Epoch: 9 >> Status: 12736/29281 >> Loss: 1.0438128709793092\n",
      "\n",
      "BLEU Score: 0.4449091303007426\n",
      "\n",
      "Epoch: 9 >> Status: 19136/29281 >> Loss: 1.0408186912536629\n",
      "\n",
      "BLEU Score: 0.45028148786280014\n",
      "\n",
      "Epoch: 9 >> Status: 25536/29281 >> Loss: 0.9102566242218018\n",
      "\n",
      "BLEU Score: 0.455792252893864\n",
      "\n",
      "Epoch: 9 >> Status: 29248/29281 >> Loss: 1.0123463869094849\n",
      "Epoch Complete...\n",
      "Epoch: 10 >> Status: 6336/29281 >> Loss: 0.9831140637397766\n",
      "\n",
      "BLEU Score: 0.46211857035456144\n",
      "\n",
      "Epoch: 10 >> Status: 12736/29281 >> Loss: 0.9806073307991028\n",
      "\n",
      "BLEU Score: 0.4667314242422873\n",
      "\n",
      "Epoch: 10 >> Status: 19136/29281 >> Loss: 0.9515188336372375\n",
      "\n",
      "BLEU Score: 0.4702222790938122\n",
      "\n",
      "Epoch: 10 >> Status: 25536/29281 >> Loss: 0.8236678242683411\n",
      "\n",
      "BLEU Score: 0.482286320514834\n",
      "\n",
      "Epoch: 10 >> Status: 29248/29281 >> Loss: 0.9293873310089111\n",
      "Epoch Complete...\n",
      "Epoch: 11 >> Status: 6336/29281 >> Loss: 0.9215363860130311\n",
      "\n",
      "BLEU Score: 0.48425791914532973\n",
      "\n",
      "Epoch: 11 >> Status: 12736/29281 >> Loss: 0.9104672670364389\n",
      "\n",
      "BLEU Score: 0.49465588615857053\n",
      "\n",
      "Epoch: 11 >> Status: 19136/29281 >> Loss: 0.9047744870185852\n",
      "\n",
      "BLEU Score: 0.5016229085948152\n",
      "\n",
      "Epoch: 11 >> Status: 25536/29281 >> Loss: 0.8033176064491272\n",
      "\n",
      "BLEU Score: 0.5042550188320248\n",
      "\n",
      "Epoch: 11 >> Status: 29248/29281 >> Loss: 0.8840689063072205\n",
      "Epoch Complete...\n",
      "Epoch: 12 >> Status: 6336/29281 >> Loss: 0.8419530391693115\n",
      "\n",
      "BLEU Score: 0.5022750111673812\n",
      "\n",
      "Epoch: 12 >> Status: 12736/29281 >> Loss: 0.8256119489669823\n",
      "\n",
      "BLEU Score: 0.5127106707649409\n",
      "\n",
      "Epoch: 12 >> Status: 19136/29281 >> Loss: 0.8537944555282593\n",
      "\n",
      "BLEU Score: 0.5146361922075062\n",
      "\n",
      "Epoch: 12 >> Status: 25536/29281 >> Loss: 0.7140423655509949\n",
      "\n",
      "BLEU Score: 0.5214825814416194\n",
      "\n",
      "Epoch: 12 >> Status: 29248/29281 >> Loss: 0.8439704179763794\n",
      "Epoch Complete...\n",
      "Epoch: 13 >> Status: 6336/29281 >> Loss: 0.8083112239837646\n",
      "\n",
      "BLEU Score: 0.5206358656933335\n",
      "\n",
      "Epoch: 13 >> Status: 12736/29281 >> Loss: 0.7954102158546448\n",
      "\n",
      "BLEU Score: 0.5261232566908766\n",
      "\n",
      "Epoch: 13 >> Status: 19136/29281 >> Loss: 0.8217564225196838\n",
      "\n",
      "BLEU Score: 0.5348837167201235\n",
      "\n",
      "Epoch: 13 >> Status: 25536/29281 >> Loss: 0.7070416212081909\n",
      "\n",
      "BLEU Score: 0.5354218651647054\n",
      "\n",
      "Epoch: 13 >> Status: 29248/29281 >> Loss: 0.7819536328315735\n",
      "Epoch Complete...\n",
      "Epoch: 14 >> Status: 6336/29281 >> Loss: 0.7551766037940979\n",
      "\n",
      "BLEU Score: 0.5343446920089138\n",
      "\n",
      "Epoch: 14 >> Status: 12736/29281 >> Loss: 0.7469537854194641\n",
      "\n",
      "BLEU Score: 0.5380990063902804\n",
      "\n",
      "Epoch: 14 >> Status: 19136/29281 >> Loss: 0.7680364847183228\n",
      "\n",
      "BLEU Score: 0.5476572429790737\n",
      "\n",
      "Epoch: 14 >> Status: 25536/29281 >> Loss: 0.6317180395126343\n",
      "\n",
      "BLEU Score: 0.5450147425727548\n",
      "\n",
      "Epoch: 14 >> Status: 29248/29281 >> Loss: 0.7360854148864746\n",
      "Epoch Complete...\n",
      "Epoch: 15 >> Status: 6336/29281 >> Loss: 0.6954227685928345\n",
      "\n",
      "BLEU Score: 0.5497546879329073\n",
      "\n",
      "Epoch: 15 >> Status: 12736/29281 >> Loss: 0.6996101737022484\n",
      "\n",
      "BLEU Score: 0.5550465932134109\n",
      "\n",
      "Epoch: 15 >> Status: 19136/29281 >> Loss: 0.7583674788475037\n",
      "\n",
      "BLEU Score: 0.5623647248908415\n",
      "\n",
      "Epoch: 15 >> Status: 25536/29281 >> Loss: 0.5959888696670532\n",
      "\n",
      "BLEU Score: 0.560122706409591\n",
      "\n",
      "Epoch: 15 >> Status: 29248/29281 >> Loss: 0.6933820247650146\n",
      "Epoch Complete...\n",
      "Epoch: 16 >> Status: 6336/29281 >> Loss: 0.6557360887527466\n",
      "\n",
      "BLEU Score: 0.5626385190578403\n",
      "\n",
      "Epoch: 16 >> Status: 12736/29281 >> Loss: 0.6845395565032959\n",
      "\n",
      "BLEU Score: 0.5668454830932345\n",
      "\n",
      "Epoch: 16 >> Status: 19136/29281 >> Loss: 0.7281553149223328\n",
      "\n",
      "BLEU Score: 0.5728893418994213\n",
      "\n",
      "Epoch: 16 >> Status: 25536/29281 >> Loss: 0.5910103321075449\n",
      "\n",
      "BLEU Score: 0.5748797082296354\n",
      "\n",
      "Epoch: 16 >> Status: 29248/29281 >> Loss: 0.6981894373893738\n",
      "Epoch Complete...\n",
      "Epoch: 17 >> Status: 6336/29281 >> Loss: 0.6576240062713623\n",
      "\n",
      "BLEU Score: 0.5759122803807523\n",
      "\n",
      "Epoch: 17 >> Status: 12736/29281 >> Loss: 0.6491000652313232\n",
      "\n",
      "BLEU Score: 0.5866158950105401\n",
      "\n",
      "Epoch: 17 >> Status: 19136/29281 >> Loss: 0.6958703994750977\n",
      "\n",
      "BLEU Score: 0.5878292557296174\n",
      "\n",
      "Epoch: 17 >> Status: 25536/29281 >> Loss: 0.5440952777862549\n",
      "\n",
      "BLEU Score: 0.5913620581229018\n",
      "\n",
      "Epoch: 17 >> Status: 29248/29281 >> Loss: 0.6550036668777466\n",
      "Epoch Complete...\n"
     ]
    },
    {
     "name": "stdout",
     "output_type": "stream",
     "text": [
      "Epoch: 18 >> Status: 6336/29281 >> Loss: 0.6174688339233398\n",
      "\n",
      "BLEU Score: 0.5901467749447065\n",
      "\n",
      "Epoch: 18 >> Status: 12736/29281 >> Loss: 0.5997928380966187\n",
      "\n",
      "BLEU Score: 0.6029722149401584\n",
      "\n",
      "Epoch: 18 >> Status: 19136/29281 >> Loss: 0.6832786202430725\n",
      "\n",
      "BLEU Score: 0.5994256454117576\n",
      "\n",
      "Epoch: 18 >> Status: 25536/29281 >> Loss: 0.5212688446044922\n",
      "\n",
      "BLEU Score: 0.6030822408168152\n",
      "\n",
      "Epoch: 18 >> Status: 29248/29281 >> Loss: 0.65234178304672247\n",
      "Epoch Complete...\n",
      "Epoch: 19 >> Status: 6336/29281 >> Loss: 0.5704870820045471\n",
      "\n",
      "BLEU Score: 0.6047980393493926\n",
      "\n",
      "Epoch: 19 >> Status: 12736/29281 >> Loss: 0.6026765108108526\n",
      "\n",
      "BLEU Score: 0.6111215935007538\n",
      "\n",
      "Epoch: 19 >> Status: 19136/29281 >> Loss: 0.65075635910034187\n",
      "\n",
      "BLEU Score: 0.6098337010866531\n",
      "\n",
      "Epoch: 19 >> Status: 25536/29281 >> Loss: 0.5079979300498962\n",
      "\n",
      "BLEU Score: 0.61390327612183\n",
      "\n",
      "Epoch: 19 >> Status: 29248/29281 >> Loss: 0.63342958688735965\n",
      "Epoch Complete...\n"
     ]
    }
   ],
   "source": [
    "for _e in range(20):\n",
    "    # Mix things up a bit.\n",
    "    random.shuffle(train_pairs)\n",
    "    for m in range(0, train_n, BATCH_SIZE):\n",
    "        n = m + BATCH_SIZE\n",
    "        if n > train_n:\n",
    "            print(\"\\nEpoch Complete...\")\n",
    "            break\n",
    "\n",
    "        input_batch = np.zeros((BATCH_SIZE, MAX_SEQ_LEN), dtype=np.int32)\n",
    "        input_lens_batch = np.zeros((BATCH_SIZE,), dtype=np.int32)\n",
    "        for i in range(m, n):\n",
    "            b,a = en_lang.encodeSentence2(train_pairs[i][0], MAX_SEQ_LEN)\n",
    "            input_batch[i-m,:] = a\n",
    "            input_lens_batch[i-m] = b\n",
    "\n",
    "        target_batch = np.zeros((BATCH_SIZE, MAX_SEQ_LEN), dtype=np.int32)\n",
    "        target_lens_batch = np.zeros((BATCH_SIZE,), dtype=np.int32)\n",
    "        for i in range(m, n):\n",
    "            b,a = hi_lang.encodeSentence2(train_pairs[i][1], MAX_SEQ_LEN)\n",
    "            target_batch[i-m,:] = a\n",
    "            target_lens_batch[i-m] = b\n",
    "\n",
    "        feed_dict={\n",
    "            input_ids: input_batch,\n",
    "            input_lens: input_lens_batch,\n",
    "            ph_target_ids: target_batch,\n",
    "            target_lens: target_lens_batch,\n",
    "            keep_prob: 0.8 \n",
    "        }\n",
    "        sess.run(train_op, feed_dict=feed_dict)\n",
    "        batch_loss = sess.run(cost, feed_dict=feed_dict)\n",
    "        print(f\"Epoch: {_e} >> Status: {n}/{train_n} >> Loss: {batch_loss}\", end=\"\\r\")\n",
    "        if (1 + n//BATCH_SIZE) % 100 == 0:\n",
    "            small_test()"
   ]
  },
  {
   "cell_type": "markdown",
   "metadata": {},
   "source": [
    "### Let's see some real translation examples now!"
   ]
  },
  {
   "cell_type": "code",
   "execution_count": 44,
   "metadata": {},
   "outputs": [],
   "source": [
    "def transliterate(s):\n",
    "    input_batch = np.zeros((BATCH_SIZE, MAX_SEQ_LEN), dtype=np.int32)\n",
    "    input_lens_batch = np.zeros((BATCH_SIZE,), dtype=np.int32)\n",
    "    b,a = en_lang.encodeSentence2(s, MAX_SEQ_LEN)\n",
    "    input_batch[0, :] = a\n",
    "    input_lens_batch[0] = b\n",
    "    \n",
    "    feed_dict={\n",
    "        input_ids: input_batch,\n",
    "        input_lens: input_lens_batch,\n",
    "        #target_ids: target_batch,\n",
    "        #target_lens: target_lens_batch,\n",
    "        keep_prob: 1.0\n",
    "    }\n",
    "    pred_batch = sess.run(infer_output[0].sample_id, feed_dict=feed_dict)\n",
    "    pred_ = pred_batch[0]\n",
    "    pred_s = hi_lang.decodeSentence(list(pred_))\n",
    "    # ref = valid_pairs[m+k][1]\n",
    "    return pred_s"
   ]
  },
  {
   "cell_type": "code",
   "execution_count": 45,
   "metadata": {},
   "outputs": [
    {
     "data": {
      "text/plain": [
       "'साया'"
      ]
     },
     "execution_count": 45,
     "metadata": {},
     "output_type": "execute_result"
    }
   ],
   "source": [
    "transliterate(\"saya\")"
   ]
  },
  {
   "cell_type": "code",
   "execution_count": 46,
   "metadata": {},
   "outputs": [
    {
     "data": {
      "text/plain": [
       "'राम'"
      ]
     },
     "execution_count": 46,
     "metadata": {},
     "output_type": "execute_result"
    }
   ],
   "source": [
    "transliterate(\"ram\")"
   ]
  },
  {
   "cell_type": "code",
   "execution_count": 47,
   "metadata": {},
   "outputs": [
    {
     "data": {
      "text/plain": [
       "'लकश'"
      ]
     },
     "execution_count": 47,
     "metadata": {},
     "output_type": "execute_result"
    }
   ],
   "source": [
    "transliterate(\"laksh\")"
   ]
  },
  {
   "cell_type": "code",
   "execution_count": null,
   "metadata": {},
   "outputs": [],
   "source": []
  }
 ],
 "metadata": {
  "kernelspec": {
   "display_name": "Python (tf_gpu)",
   "language": "python",
   "name": "tf_gpu"
  },
  "toc": {
   "base_numbering": 1,
   "nav_menu": {},
   "number_sections": true,
   "sideBar": true,
   "skip_h1_title": false,
   "title_cell": "Table of Contents",
   "title_sidebar": "Contents",
   "toc_cell": false,
   "toc_position": {
    "height": "calc(100% - 180px)",
    "left": "10px",
    "top": "150px",
    "width": "320px"
   },
   "toc_section_display": true,
   "toc_window_display": true
  }
 },
 "nbformat": 4,
 "nbformat_minor": 2
}
